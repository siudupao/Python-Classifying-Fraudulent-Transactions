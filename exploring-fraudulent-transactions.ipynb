{
 "cells": [
  {
   "cell_type": "markdown",
   "id": "82c46ac5",
   "metadata": {
    "papermill": {
     "duration": 0.014794,
     "end_time": "2023-05-09T05:29:05.777166",
     "exception": false,
     "start_time": "2023-05-09T05:29:05.762372",
     "status": "completed"
    },
    "tags": []
   },
   "source": [
    "# **Exploring and Classifying Fraudulent Fraudulent Transactions**\n"
   ]
  },
  {
   "cell_type": "markdown",
   "id": "a361e835",
   "metadata": {
    "papermill": {
     "duration": 0.013065,
     "end_time": "2023-05-09T05:29:05.804426",
     "exception": false,
     "start_time": "2023-05-09T05:29:05.791361",
     "status": "completed"
    },
    "tags": []
   },
   "source": [
    "# Project Overview\n",
    "\n",
    "In this project, I analyze financial transaction data to explore patterns of fraudulent behaviour. Areas that I explore are:\n",
    "- time of transaction\n",
    "- payment type\n",
    "- amount of transaction\n",
    "- account type\n",
    "- account balance\n",
    "- flagged transaction\n",
    "\n",
    "Once I obtain a set of features that correlate with fraudulent data, I train the machine learning models RandomForest and ExtremeGradientBoost to classify and predict whether a transaction is fraudulent or not. \n",
    "\n",
    "I then evaluate the classifications of these models and choose the better algorithm. "
   ]
  },
  {
   "cell_type": "markdown",
   "id": "4daff7b4",
   "metadata": {
    "papermill": {
     "duration": 0.013173,
     "end_time": "2023-05-09T05:29:05.832487",
     "exception": false,
     "start_time": "2023-05-09T05:29:05.819314",
     "status": "completed"
    },
    "tags": []
   },
   "source": [
    "# Dataset\n",
    "\n",
    "The dataset used for this project is called [Synthetic Financial Datasets For Fraud Detection](https://www.kaggle.com/datasets/ealaxi/paysim1?page=2) from Kaggle. \n",
    "\n",
    "The dataset is a synthetic dataset generated based on real mobile money transactions extracted from one month of financial logs from a mobile money service implemented in an African country. This dataset was generated specifically for fraud detection research. \n",
    "\n",
    "The dataset contains 6362620 rows and 11 variables. The variables are listed below followed by a brief description.\n",
    "\n",
    "* step - maps a unit of time in the real world. In this case 1 step is 1 hour of time. Total steps 744 (30 days simulation).\n",
    "\n",
    "* type - CASH-IN, CASH-OUT, DEBIT, PAYMENT and TRANSFER.\n",
    "\n",
    "* amount - amount of the transaction in local currency.\n",
    "\n",
    "* nameOrig - customer who started the transaction\n",
    "\n",
    "* oldbalanceOrg - initial balance before the transaction\n",
    "\n",
    "* newbalanceOrig - new balance after the transaction\n",
    "\n",
    "* nameDest - customer who is the recipient of the transaction\n",
    "\n",
    "* oldbalanceDest - initial balance recipient before the transaction. Note that there is not information for customers that start with M (Merchants).\n",
    "\n",
    "* newbalanceDest - new balance recipient after the transaction. Note that there is not information for customers that start with M (Merchants).\n",
    "\n",
    "* isFraud - This is the transactions made by the fraudulent agents inside the simulation. In this specific dataset the fraudulent behavior of the agents aims to profit by taking control or customers accounts and try to empty the funds by transferring to another account and then cashing out of the system.\n",
    "\n",
    "* isFlaggedFraud - The business model aims to control massive transfers from one account to another and flags illegal attempts. An illegal attempt in this dataset is an attempt to transfer more than 200.000 in a single transaction.\n",
    "\n"
   ]
  },
  {
   "cell_type": "markdown",
   "id": "36ab1ef1",
   "metadata": {
    "papermill": {
     "duration": 0.013896,
     "end_time": "2023-05-09T05:29:05.862882",
     "exception": false,
     "start_time": "2023-05-09T05:29:05.848986",
     "status": "completed"
    },
    "tags": []
   },
   "source": [
    "## Loading Python Packages and Dataset"
   ]
  },
  {
   "cell_type": "code",
   "execution_count": 1,
   "id": "cf9cec13",
   "metadata": {
    "_cell_guid": "b1076dfc-b9ad-4769-8c92-a6c4dae69d19",
    "_uuid": "8f2839f25d086af736a60e9eeb907d3b93b6e0e5",
    "execution": {
     "iopub.execute_input": "2023-05-09T05:29:05.893979Z",
     "iopub.status.busy": "2023-05-09T05:29:05.893274Z",
     "iopub.status.idle": "2023-05-09T05:29:08.250336Z",
     "shell.execute_reply": "2023-05-09T05:29:08.248962Z"
    },
    "papermill": {
     "duration": 2.377936,
     "end_time": "2023-05-09T05:29:08.254160",
     "exception": false,
     "start_time": "2023-05-09T05:29:05.876224",
     "status": "completed"
    },
    "tags": []
   },
   "outputs": [],
   "source": [
    "# Loading Python Packages\n",
    "\n",
    "import numpy as np \n",
    "import pandas as pd \n",
    "import matplotlib.pyplot as plt\n",
    "import seaborn as sns\n",
    "\n",
    "%matplotlib inline\n",
    "\n",
    "from sklearn.model_selection import train_test_split\n",
    "from sklearn.preprocessing import StandardScaler\n",
    "from sklearn.ensemble import RandomForestClassifier\n",
    "from xgboost.sklearn import XGBClassifier\n",
    "from sklearn.metrics import classification_report,confusion_matrix,accuracy_score, roc_curve, auc, precision_score\n",
    "from imblearn.under_sampling import RandomUnderSampler"
   ]
  },
  {
   "cell_type": "code",
   "execution_count": 2,
   "id": "e2a7fc0a",
   "metadata": {
    "execution": {
     "iopub.execute_input": "2023-05-09T05:29:08.283072Z",
     "iopub.status.busy": "2023-05-09T05:29:08.282571Z",
     "iopub.status.idle": "2023-05-09T05:29:29.245651Z",
     "shell.execute_reply": "2023-05-09T05:29:29.244480Z"
    },
    "papermill": {
     "duration": 20.981217,
     "end_time": "2023-05-09T05:29:29.248908",
     "exception": false,
     "start_time": "2023-05-09T05:29:08.267691",
     "status": "completed"
    },
    "tags": []
   },
   "outputs": [],
   "source": [
    "# Loading data \n",
    "data = pd.read_csv('/kaggle/input/paysim1/PS_20174392719_1491204439457_log.csv')"
   ]
  },
  {
   "cell_type": "markdown",
   "id": "2acf1643",
   "metadata": {
    "papermill": {
     "duration": 0.013802,
     "end_time": "2023-05-09T05:29:29.276144",
     "exception": false,
     "start_time": "2023-05-09T05:29:29.262342",
     "status": "completed"
    },
    "tags": []
   },
   "source": [
    "## Exploratory Data Analysis"
   ]
  },
  {
   "cell_type": "markdown",
   "id": "5d880136",
   "metadata": {
    "papermill": {
     "duration": 0.013286,
     "end_time": "2023-05-09T05:29:29.303304",
     "exception": false,
     "start_time": "2023-05-09T05:29:29.290018",
     "status": "completed"
    },
    "tags": []
   },
   "source": [
    "### 1. Data Overview and Summary Statistics"
   ]
  },
  {
   "cell_type": "code",
   "execution_count": 3,
   "id": "1f5c8a03",
   "metadata": {
    "execution": {
     "iopub.execute_input": "2023-05-09T05:29:29.334014Z",
     "iopub.status.busy": "2023-05-09T05:29:29.333570Z",
     "iopub.status.idle": "2023-05-09T05:29:29.371859Z",
     "shell.execute_reply": "2023-05-09T05:29:29.370072Z"
    },
    "papermill": {
     "duration": 0.057563,
     "end_time": "2023-05-09T05:29:29.375489",
     "exception": false,
     "start_time": "2023-05-09T05:29:29.317926",
     "status": "completed"
    },
    "tags": []
   },
   "outputs": [
    {
     "data": {
      "text/html": [
       "<div>\n",
       "<style scoped>\n",
       "    .dataframe tbody tr th:only-of-type {\n",
       "        vertical-align: middle;\n",
       "    }\n",
       "\n",
       "    .dataframe tbody tr th {\n",
       "        vertical-align: top;\n",
       "    }\n",
       "\n",
       "    .dataframe thead th {\n",
       "        text-align: right;\n",
       "    }\n",
       "</style>\n",
       "<table border=\"1\" class=\"dataframe\">\n",
       "  <thead>\n",
       "    <tr style=\"text-align: right;\">\n",
       "      <th></th>\n",
       "      <th>step</th>\n",
       "      <th>type</th>\n",
       "      <th>amount</th>\n",
       "      <th>nameOrig</th>\n",
       "      <th>oldbalanceOrg</th>\n",
       "      <th>newbalanceOrig</th>\n",
       "      <th>nameDest</th>\n",
       "      <th>oldbalanceDest</th>\n",
       "      <th>newbalanceDest</th>\n",
       "      <th>isFraud</th>\n",
       "      <th>isFlaggedFraud</th>\n",
       "    </tr>\n",
       "  </thead>\n",
       "  <tbody>\n",
       "    <tr>\n",
       "      <th>0</th>\n",
       "      <td>1</td>\n",
       "      <td>PAYMENT</td>\n",
       "      <td>9839.64</td>\n",
       "      <td>C1231006815</td>\n",
       "      <td>170136.0</td>\n",
       "      <td>160296.36</td>\n",
       "      <td>M1979787155</td>\n",
       "      <td>0.0</td>\n",
       "      <td>0.0</td>\n",
       "      <td>0</td>\n",
       "      <td>0</td>\n",
       "    </tr>\n",
       "    <tr>\n",
       "      <th>1</th>\n",
       "      <td>1</td>\n",
       "      <td>PAYMENT</td>\n",
       "      <td>1864.28</td>\n",
       "      <td>C1666544295</td>\n",
       "      <td>21249.0</td>\n",
       "      <td>19384.72</td>\n",
       "      <td>M2044282225</td>\n",
       "      <td>0.0</td>\n",
       "      <td>0.0</td>\n",
       "      <td>0</td>\n",
       "      <td>0</td>\n",
       "    </tr>\n",
       "    <tr>\n",
       "      <th>2</th>\n",
       "      <td>1</td>\n",
       "      <td>TRANSFER</td>\n",
       "      <td>181.00</td>\n",
       "      <td>C1305486145</td>\n",
       "      <td>181.0</td>\n",
       "      <td>0.00</td>\n",
       "      <td>C553264065</td>\n",
       "      <td>0.0</td>\n",
       "      <td>0.0</td>\n",
       "      <td>1</td>\n",
       "      <td>0</td>\n",
       "    </tr>\n",
       "    <tr>\n",
       "      <th>3</th>\n",
       "      <td>1</td>\n",
       "      <td>CASH_OUT</td>\n",
       "      <td>181.00</td>\n",
       "      <td>C840083671</td>\n",
       "      <td>181.0</td>\n",
       "      <td>0.00</td>\n",
       "      <td>C38997010</td>\n",
       "      <td>21182.0</td>\n",
       "      <td>0.0</td>\n",
       "      <td>1</td>\n",
       "      <td>0</td>\n",
       "    </tr>\n",
       "    <tr>\n",
       "      <th>4</th>\n",
       "      <td>1</td>\n",
       "      <td>PAYMENT</td>\n",
       "      <td>11668.14</td>\n",
       "      <td>C2048537720</td>\n",
       "      <td>41554.0</td>\n",
       "      <td>29885.86</td>\n",
       "      <td>M1230701703</td>\n",
       "      <td>0.0</td>\n",
       "      <td>0.0</td>\n",
       "      <td>0</td>\n",
       "      <td>0</td>\n",
       "    </tr>\n",
       "  </tbody>\n",
       "</table>\n",
       "</div>"
      ],
      "text/plain": [
       "   step      type    amount     nameOrig  oldbalanceOrg  newbalanceOrig  \\\n",
       "0     1   PAYMENT   9839.64  C1231006815       170136.0       160296.36   \n",
       "1     1   PAYMENT   1864.28  C1666544295        21249.0        19384.72   \n",
       "2     1  TRANSFER    181.00  C1305486145          181.0            0.00   \n",
       "3     1  CASH_OUT    181.00   C840083671          181.0            0.00   \n",
       "4     1   PAYMENT  11668.14  C2048537720        41554.0        29885.86   \n",
       "\n",
       "      nameDest  oldbalanceDest  newbalanceDest  isFraud  isFlaggedFraud  \n",
       "0  M1979787155             0.0             0.0        0               0  \n",
       "1  M2044282225             0.0             0.0        0               0  \n",
       "2   C553264065             0.0             0.0        1               0  \n",
       "3    C38997010         21182.0             0.0        1               0  \n",
       "4  M1230701703             0.0             0.0        0               0  "
      ]
     },
     "execution_count": 3,
     "metadata": {},
     "output_type": "execute_result"
    }
   ],
   "source": [
    "# View first 5 rows of data \n",
    "data.head()"
   ]
  },
  {
   "cell_type": "code",
   "execution_count": 4,
   "id": "378a5d52",
   "metadata": {
    "execution": {
     "iopub.execute_input": "2023-05-09T05:29:29.407148Z",
     "iopub.status.busy": "2023-05-09T05:29:29.406080Z",
     "iopub.status.idle": "2023-05-09T05:29:29.425719Z",
     "shell.execute_reply": "2023-05-09T05:29:29.424158Z"
    },
    "papermill": {
     "duration": 0.038673,
     "end_time": "2023-05-09T05:29:29.428550",
     "exception": false,
     "start_time": "2023-05-09T05:29:29.389877",
     "status": "completed"
    },
    "tags": []
   },
   "outputs": [
    {
     "data": {
      "text/html": [
       "<div>\n",
       "<style scoped>\n",
       "    .dataframe tbody tr th:only-of-type {\n",
       "        vertical-align: middle;\n",
       "    }\n",
       "\n",
       "    .dataframe tbody tr th {\n",
       "        vertical-align: top;\n",
       "    }\n",
       "\n",
       "    .dataframe thead th {\n",
       "        text-align: right;\n",
       "    }\n",
       "</style>\n",
       "<table border=\"1\" class=\"dataframe\">\n",
       "  <thead>\n",
       "    <tr style=\"text-align: right;\">\n",
       "      <th></th>\n",
       "      <th>step</th>\n",
       "      <th>type</th>\n",
       "      <th>amount</th>\n",
       "      <th>nameOrig</th>\n",
       "      <th>oldbalanceOrg</th>\n",
       "      <th>newbalanceOrig</th>\n",
       "      <th>nameDest</th>\n",
       "      <th>oldbalanceDest</th>\n",
       "      <th>newbalanceDest</th>\n",
       "      <th>isFraud</th>\n",
       "      <th>isFlaggedFraud</th>\n",
       "    </tr>\n",
       "  </thead>\n",
       "  <tbody>\n",
       "    <tr>\n",
       "      <th>6362615</th>\n",
       "      <td>743</td>\n",
       "      <td>CASH_OUT</td>\n",
       "      <td>339682.13</td>\n",
       "      <td>C786484425</td>\n",
       "      <td>339682.13</td>\n",
       "      <td>0.0</td>\n",
       "      <td>C776919290</td>\n",
       "      <td>0.00</td>\n",
       "      <td>339682.13</td>\n",
       "      <td>1</td>\n",
       "      <td>0</td>\n",
       "    </tr>\n",
       "    <tr>\n",
       "      <th>6362616</th>\n",
       "      <td>743</td>\n",
       "      <td>TRANSFER</td>\n",
       "      <td>6311409.28</td>\n",
       "      <td>C1529008245</td>\n",
       "      <td>6311409.28</td>\n",
       "      <td>0.0</td>\n",
       "      <td>C1881841831</td>\n",
       "      <td>0.00</td>\n",
       "      <td>0.00</td>\n",
       "      <td>1</td>\n",
       "      <td>0</td>\n",
       "    </tr>\n",
       "    <tr>\n",
       "      <th>6362617</th>\n",
       "      <td>743</td>\n",
       "      <td>CASH_OUT</td>\n",
       "      <td>6311409.28</td>\n",
       "      <td>C1162922333</td>\n",
       "      <td>6311409.28</td>\n",
       "      <td>0.0</td>\n",
       "      <td>C1365125890</td>\n",
       "      <td>68488.84</td>\n",
       "      <td>6379898.11</td>\n",
       "      <td>1</td>\n",
       "      <td>0</td>\n",
       "    </tr>\n",
       "    <tr>\n",
       "      <th>6362618</th>\n",
       "      <td>743</td>\n",
       "      <td>TRANSFER</td>\n",
       "      <td>850002.52</td>\n",
       "      <td>C1685995037</td>\n",
       "      <td>850002.52</td>\n",
       "      <td>0.0</td>\n",
       "      <td>C2080388513</td>\n",
       "      <td>0.00</td>\n",
       "      <td>0.00</td>\n",
       "      <td>1</td>\n",
       "      <td>0</td>\n",
       "    </tr>\n",
       "    <tr>\n",
       "      <th>6362619</th>\n",
       "      <td>743</td>\n",
       "      <td>CASH_OUT</td>\n",
       "      <td>850002.52</td>\n",
       "      <td>C1280323807</td>\n",
       "      <td>850002.52</td>\n",
       "      <td>0.0</td>\n",
       "      <td>C873221189</td>\n",
       "      <td>6510099.11</td>\n",
       "      <td>7360101.63</td>\n",
       "      <td>1</td>\n",
       "      <td>0</td>\n",
       "    </tr>\n",
       "  </tbody>\n",
       "</table>\n",
       "</div>"
      ],
      "text/plain": [
       "         step      type      amount     nameOrig  oldbalanceOrg  \\\n",
       "6362615   743  CASH_OUT   339682.13   C786484425      339682.13   \n",
       "6362616   743  TRANSFER  6311409.28  C1529008245     6311409.28   \n",
       "6362617   743  CASH_OUT  6311409.28  C1162922333     6311409.28   \n",
       "6362618   743  TRANSFER   850002.52  C1685995037      850002.52   \n",
       "6362619   743  CASH_OUT   850002.52  C1280323807      850002.52   \n",
       "\n",
       "         newbalanceOrig     nameDest  oldbalanceDest  newbalanceDest  isFraud  \\\n",
       "6362615             0.0   C776919290            0.00       339682.13        1   \n",
       "6362616             0.0  C1881841831            0.00            0.00        1   \n",
       "6362617             0.0  C1365125890        68488.84      6379898.11        1   \n",
       "6362618             0.0  C2080388513            0.00            0.00        1   \n",
       "6362619             0.0   C873221189      6510099.11      7360101.63        1   \n",
       "\n",
       "         isFlaggedFraud  \n",
       "6362615               0  \n",
       "6362616               0  \n",
       "6362617               0  \n",
       "6362618               0  \n",
       "6362619               0  "
      ]
     },
     "execution_count": 4,
     "metadata": {},
     "output_type": "execute_result"
    }
   ],
   "source": [
    "# View last 5 rows of data\n",
    "data.tail()"
   ]
  },
  {
   "cell_type": "code",
   "execution_count": 5,
   "id": "fe554831",
   "metadata": {
    "execution": {
     "iopub.execute_input": "2023-05-09T05:29:29.458245Z",
     "iopub.status.busy": "2023-05-09T05:29:29.457822Z",
     "iopub.status.idle": "2023-05-09T05:29:31.569983Z",
     "shell.execute_reply": "2023-05-09T05:29:31.568379Z"
    },
    "papermill": {
     "duration": 2.130239,
     "end_time": "2023-05-09T05:29:31.572646",
     "exception": false,
     "start_time": "2023-05-09T05:29:29.442407",
     "status": "completed"
    },
    "tags": []
   },
   "outputs": [
    {
     "data": {
      "text/html": [
       "<div>\n",
       "<style scoped>\n",
       "    .dataframe tbody tr th:only-of-type {\n",
       "        vertical-align: middle;\n",
       "    }\n",
       "\n",
       "    .dataframe tbody tr th {\n",
       "        vertical-align: top;\n",
       "    }\n",
       "\n",
       "    .dataframe thead th {\n",
       "        text-align: right;\n",
       "    }\n",
       "</style>\n",
       "<table border=\"1\" class=\"dataframe\">\n",
       "  <thead>\n",
       "    <tr style=\"text-align: right;\">\n",
       "      <th></th>\n",
       "      <th>step</th>\n",
       "      <th>amount</th>\n",
       "      <th>oldbalanceOrg</th>\n",
       "      <th>newbalanceOrig</th>\n",
       "      <th>oldbalanceDest</th>\n",
       "      <th>newbalanceDest</th>\n",
       "      <th>isFraud</th>\n",
       "      <th>isFlaggedFraud</th>\n",
       "    </tr>\n",
       "  </thead>\n",
       "  <tbody>\n",
       "    <tr>\n",
       "      <th>count</th>\n",
       "      <td>6.362620e+06</td>\n",
       "      <td>6.362620e+06</td>\n",
       "      <td>6.362620e+06</td>\n",
       "      <td>6.362620e+06</td>\n",
       "      <td>6.362620e+06</td>\n",
       "      <td>6.362620e+06</td>\n",
       "      <td>6.362620e+06</td>\n",
       "      <td>6.362620e+06</td>\n",
       "    </tr>\n",
       "    <tr>\n",
       "      <th>mean</th>\n",
       "      <td>2.433972e+02</td>\n",
       "      <td>1.798619e+05</td>\n",
       "      <td>8.338831e+05</td>\n",
       "      <td>8.551137e+05</td>\n",
       "      <td>1.100702e+06</td>\n",
       "      <td>1.224996e+06</td>\n",
       "      <td>1.290820e-03</td>\n",
       "      <td>2.514687e-06</td>\n",
       "    </tr>\n",
       "    <tr>\n",
       "      <th>std</th>\n",
       "      <td>1.423320e+02</td>\n",
       "      <td>6.038582e+05</td>\n",
       "      <td>2.888243e+06</td>\n",
       "      <td>2.924049e+06</td>\n",
       "      <td>3.399180e+06</td>\n",
       "      <td>3.674129e+06</td>\n",
       "      <td>3.590480e-02</td>\n",
       "      <td>1.585775e-03</td>\n",
       "    </tr>\n",
       "    <tr>\n",
       "      <th>min</th>\n",
       "      <td>1.000000e+00</td>\n",
       "      <td>0.000000e+00</td>\n",
       "      <td>0.000000e+00</td>\n",
       "      <td>0.000000e+00</td>\n",
       "      <td>0.000000e+00</td>\n",
       "      <td>0.000000e+00</td>\n",
       "      <td>0.000000e+00</td>\n",
       "      <td>0.000000e+00</td>\n",
       "    </tr>\n",
       "    <tr>\n",
       "      <th>25%</th>\n",
       "      <td>1.560000e+02</td>\n",
       "      <td>1.338957e+04</td>\n",
       "      <td>0.000000e+00</td>\n",
       "      <td>0.000000e+00</td>\n",
       "      <td>0.000000e+00</td>\n",
       "      <td>0.000000e+00</td>\n",
       "      <td>0.000000e+00</td>\n",
       "      <td>0.000000e+00</td>\n",
       "    </tr>\n",
       "    <tr>\n",
       "      <th>50%</th>\n",
       "      <td>2.390000e+02</td>\n",
       "      <td>7.487194e+04</td>\n",
       "      <td>1.420800e+04</td>\n",
       "      <td>0.000000e+00</td>\n",
       "      <td>1.327057e+05</td>\n",
       "      <td>2.146614e+05</td>\n",
       "      <td>0.000000e+00</td>\n",
       "      <td>0.000000e+00</td>\n",
       "    </tr>\n",
       "    <tr>\n",
       "      <th>75%</th>\n",
       "      <td>3.350000e+02</td>\n",
       "      <td>2.087215e+05</td>\n",
       "      <td>1.073152e+05</td>\n",
       "      <td>1.442584e+05</td>\n",
       "      <td>9.430367e+05</td>\n",
       "      <td>1.111909e+06</td>\n",
       "      <td>0.000000e+00</td>\n",
       "      <td>0.000000e+00</td>\n",
       "    </tr>\n",
       "    <tr>\n",
       "      <th>max</th>\n",
       "      <td>7.430000e+02</td>\n",
       "      <td>9.244552e+07</td>\n",
       "      <td>5.958504e+07</td>\n",
       "      <td>4.958504e+07</td>\n",
       "      <td>3.560159e+08</td>\n",
       "      <td>3.561793e+08</td>\n",
       "      <td>1.000000e+00</td>\n",
       "      <td>1.000000e+00</td>\n",
       "    </tr>\n",
       "  </tbody>\n",
       "</table>\n",
       "</div>"
      ],
      "text/plain": [
       "               step        amount  oldbalanceOrg  newbalanceOrig  \\\n",
       "count  6.362620e+06  6.362620e+06   6.362620e+06    6.362620e+06   \n",
       "mean   2.433972e+02  1.798619e+05   8.338831e+05    8.551137e+05   \n",
       "std    1.423320e+02  6.038582e+05   2.888243e+06    2.924049e+06   \n",
       "min    1.000000e+00  0.000000e+00   0.000000e+00    0.000000e+00   \n",
       "25%    1.560000e+02  1.338957e+04   0.000000e+00    0.000000e+00   \n",
       "50%    2.390000e+02  7.487194e+04   1.420800e+04    0.000000e+00   \n",
       "75%    3.350000e+02  2.087215e+05   1.073152e+05    1.442584e+05   \n",
       "max    7.430000e+02  9.244552e+07   5.958504e+07    4.958504e+07   \n",
       "\n",
       "       oldbalanceDest  newbalanceDest       isFraud  isFlaggedFraud  \n",
       "count    6.362620e+06    6.362620e+06  6.362620e+06    6.362620e+06  \n",
       "mean     1.100702e+06    1.224996e+06  1.290820e-03    2.514687e-06  \n",
       "std      3.399180e+06    3.674129e+06  3.590480e-02    1.585775e-03  \n",
       "min      0.000000e+00    0.000000e+00  0.000000e+00    0.000000e+00  \n",
       "25%      0.000000e+00    0.000000e+00  0.000000e+00    0.000000e+00  \n",
       "50%      1.327057e+05    2.146614e+05  0.000000e+00    0.000000e+00  \n",
       "75%      9.430367e+05    1.111909e+06  0.000000e+00    0.000000e+00  \n",
       "max      3.560159e+08    3.561793e+08  1.000000e+00    1.000000e+00  "
      ]
     },
     "execution_count": 5,
     "metadata": {},
     "output_type": "execute_result"
    }
   ],
   "source": [
    "# View summary statistics\n",
    "data.describe()"
   ]
  },
  {
   "cell_type": "code",
   "execution_count": 6,
   "id": "eb88c444",
   "metadata": {
    "execution": {
     "iopub.execute_input": "2023-05-09T05:29:31.603295Z",
     "iopub.status.busy": "2023-05-09T05:29:31.602801Z",
     "iopub.status.idle": "2023-05-09T05:29:31.622556Z",
     "shell.execute_reply": "2023-05-09T05:29:31.620703Z"
    },
    "papermill": {
     "duration": 0.039662,
     "end_time": "2023-05-09T05:29:31.625998",
     "exception": false,
     "start_time": "2023-05-09T05:29:31.586336",
     "status": "completed"
    },
    "tags": []
   },
   "outputs": [
    {
     "name": "stdout",
     "output_type": "stream",
     "text": [
      "<class 'pandas.core.frame.DataFrame'>\n",
      "RangeIndex: 6362620 entries, 0 to 6362619\n",
      "Data columns (total 11 columns):\n",
      " #   Column          Dtype  \n",
      "---  ------          -----  \n",
      " 0   step            int64  \n",
      " 1   type            object \n",
      " 2   amount          float64\n",
      " 3   nameOrig        object \n",
      " 4   oldbalanceOrg   float64\n",
      " 5   newbalanceOrig  float64\n",
      " 6   nameDest        object \n",
      " 7   oldbalanceDest  float64\n",
      " 8   newbalanceDest  float64\n",
      " 9   isFraud         int64  \n",
      " 10  isFlaggedFraud  int64  \n",
      "dtypes: float64(5), int64(3), object(3)\n",
      "memory usage: 534.0+ MB\n"
     ]
    }
   ],
   "source": [
    "# View data type \n",
    "data.info()"
   ]
  },
  {
   "cell_type": "code",
   "execution_count": 7,
   "id": "8b1c351e",
   "metadata": {
    "execution": {
     "iopub.execute_input": "2023-05-09T05:29:31.657159Z",
     "iopub.status.busy": "2023-05-09T05:29:31.656635Z",
     "iopub.status.idle": "2023-05-09T05:29:32.699207Z",
     "shell.execute_reply": "2023-05-09T05:29:32.697603Z"
    },
    "papermill": {
     "duration": 1.062123,
     "end_time": "2023-05-09T05:29:32.702325",
     "exception": false,
     "start_time": "2023-05-09T05:29:31.640202",
     "status": "completed"
    },
    "tags": []
   },
   "outputs": [
    {
     "data": {
      "text/plain": [
       "step              0\n",
       "type              0\n",
       "amount            0\n",
       "nameOrig          0\n",
       "oldbalanceOrg     0\n",
       "newbalanceOrig    0\n",
       "nameDest          0\n",
       "oldbalanceDest    0\n",
       "newbalanceDest    0\n",
       "isFraud           0\n",
       "isFlaggedFraud    0\n",
       "dtype: int64"
      ]
     },
     "execution_count": 7,
     "metadata": {},
     "output_type": "execute_result"
    }
   ],
   "source": [
    "# Find any null entries\n",
    "data.isnull().sum()"
   ]
  },
  {
   "cell_type": "code",
   "execution_count": 8,
   "id": "ab8ba9b5",
   "metadata": {
    "execution": {
     "iopub.execute_input": "2023-05-09T05:29:32.733337Z",
     "iopub.status.busy": "2023-05-09T05:29:32.732854Z",
     "iopub.status.idle": "2023-05-09T05:29:51.646281Z",
     "shell.execute_reply": "2023-05-09T05:29:51.645109Z"
    },
    "papermill": {
     "duration": 18.932393,
     "end_time": "2023-05-09T05:29:51.649020",
     "exception": false,
     "start_time": "2023-05-09T05:29:32.716627",
     "status": "completed"
    },
    "tags": []
   },
   "outputs": [
    {
     "data": {
      "text/plain": [
       "0"
      ]
     },
     "execution_count": 8,
     "metadata": {},
     "output_type": "execute_result"
    }
   ],
   "source": [
    "# Find duplicate entries \n",
    "data.duplicated().sum()"
   ]
  },
  {
   "cell_type": "markdown",
   "id": "2a943e3a",
   "metadata": {
    "papermill": {
     "duration": 0.013787,
     "end_time": "2023-05-09T05:29:51.677402",
     "exception": false,
     "start_time": "2023-05-09T05:29:51.663615",
     "status": "completed"
    },
    "tags": []
   },
   "source": [
    "#### Insights\n",
    "1. There are no null values and duplicate rows - no imputation necessary\n",
    "2. There are over 6 million transaction details\n",
    "3. There are 11 variables\n",
    "4. There are instances where there is a 'TRANSFER' followed by 'CASH_OUT', both for the same amount, and both transactions are flagged as fraud (observed in the first 5 rows and last 5 rows)\n",
    "5. From the first 5 rows and last 5 rows, all transactions with newbalanceOrig = 0 are Fraudulent transactions\n",
    "6. From the last 5 rows, no transactions that were \"TRANSFER\" with amount > 200,000 currency units were Flagged as Fraud. The flagging system may not be effective"
   ]
  },
  {
   "cell_type": "markdown",
   "id": "e91c5588",
   "metadata": {
    "papermill": {
     "duration": 0.013697,
     "end_time": "2023-05-09T05:29:51.705443",
     "exception": false,
     "start_time": "2023-05-09T05:29:51.691746",
     "status": "completed"
    },
    "tags": []
   },
   "source": [
    "### 2. Exploring Time of Transaction"
   ]
  },
  {
   "cell_type": "code",
   "execution_count": 9,
   "id": "3f97fd24",
   "metadata": {
    "execution": {
     "iopub.execute_input": "2023-05-09T05:29:51.736934Z",
     "iopub.status.busy": "2023-05-09T05:29:51.735663Z",
     "iopub.status.idle": "2023-05-09T05:29:52.981228Z",
     "shell.execute_reply": "2023-05-09T05:29:52.980082Z"
    },
    "papermill": {
     "duration": 1.264433,
     "end_time": "2023-05-09T05:29:52.984067",
     "exception": false,
     "start_time": "2023-05-09T05:29:51.719634",
     "status": "completed"
    },
    "tags": []
   },
   "outputs": [],
   "source": [
    "# Create a new dataset to add changes to\n",
    "data_ml = data.copy() \n",
    "\n",
    "# Create subsets of fraud and valid transactions\n",
    "valid = data_ml[data_ml['isFraud'] == 0]\n",
    "fraud = data_ml[data_ml['isFraud'] == 1]\n"
   ]
  },
  {
   "cell_type": "code",
   "execution_count": 10,
   "id": "6a26a04e",
   "metadata": {
    "execution": {
     "iopub.execute_input": "2023-05-09T05:29:53.016560Z",
     "iopub.status.busy": "2023-05-09T05:29:53.015432Z",
     "iopub.status.idle": "2023-05-09T05:29:53.973515Z",
     "shell.execute_reply": "2023-05-09T05:29:53.972059Z"
    },
    "papermill": {
     "duration": 0.978283,
     "end_time": "2023-05-09T05:29:53.976272",
     "exception": false,
     "start_time": "2023-05-09T05:29:52.997989",
     "status": "completed"
    },
    "tags": []
   },
   "outputs": [
    {
     "data": {
      "image/png": "[encoded data removed]",
      "text/plain": [
       "<Figure size 640x480 with 1 Axes>"
      ]
     },
     "metadata": {},
     "output_type": "display_data"
    },
    {
     "data": {
      "image/png": "[encoded data removed]",
      "text/plain": [
       "<Figure size 640x480 with 1 Axes>"
      ]
     },
     "metadata": {},
     "output_type": "display_data"
    }
   ],
   "source": [
    "# Visualize Valid and Fraud transactions over time\n",
    "bins = 62 #each bin correspond to 12 steps/hours\n",
    "\n",
    "valid.hist(column = \"step\", color=\"blue\", bins = bins)\n",
    "plt.xlabel(\"1 hour time step\")\n",
    "plt.ylabel(\"Number of transactions\")\n",
    "plt.title(\"Number of valid transactions over time\")\n",
    "\n",
    "fraud.hist(column = \"step\", color=\"red\", bins = bins)\n",
    "plt.xlabel(\"1 hour time step\")\n",
    "plt.ylabel(\"Number of transactions\")\n",
    "plt.title(\"Number of fraud transactions over time\")\n",
    "\n",
    "plt.show()"
   ]
  },
  {
   "cell_type": "markdown",
   "id": "14194f4a",
   "metadata": {
    "papermill": {
     "duration": 0.015326,
     "end_time": "2023-05-09T05:29:54.006509",
     "exception": false,
     "start_time": "2023-05-09T05:29:53.991183",
     "status": "completed"
    },
    "tags": []
   },
   "source": [
    "#### Insights\n",
    "1. Valid transactions do not occur consistently over time. There are spikes throughout certain periods. A significant porportion of transactions occur during timesteps 0-48 and 120-408. Within these timesteps, the transaction volume also alternate between high and low per 12 hour bins. \n",
    "2. Fraud transactions occur uniformly over time with little variation.\n",
    "\n",
    "It's interesting that the transaction volume of valid transactions alternate between high and low per 12 hours duration. To dig deeper, I will explore timesteps by hour of the day."
   ]
  },
  {
   "cell_type": "code",
   "execution_count": 11,
   "id": "e2ab21b0",
   "metadata": {
    "execution": {
     "iopub.execute_input": "2023-05-09T05:29:54.038481Z",
     "iopub.status.busy": "2023-05-09T05:29:54.038038Z",
     "iopub.status.idle": "2023-05-09T05:29:54.849138Z",
     "shell.execute_reply": "2023-05-09T05:29:54.847554Z"
    },
    "papermill": {
     "duration": 0.830597,
     "end_time": "2023-05-09T05:29:54.852212",
     "exception": false,
     "start_time": "2023-05-09T05:29:54.021615",
     "status": "completed"
    },
    "tags": []
   },
   "outputs": [
    {
     "data": {
      "image/png": "[encoded data removed]",
      "text/plain": [
       "<Figure size 640x480 with 2 Axes>"
      ]
     },
     "metadata": {},
     "output_type": "display_data"
    }
   ],
   "source": [
    "# Visualize Valid and Fraud transactions by hour of the day\n",
    "# Timesteps by hour of day \n",
    "valid_hours = valid.step % 24 \n",
    "fraud_hours = fraud.step % 24 \n",
    "\n",
    "plt.subplot(1, 2, 1)\n",
    "valid_hours.hist(bins = 24, color = \"blue\")\n",
    "plt.title('Valid transactions by hour')\n",
    "plt.xlabel('Hour of the day')\n",
    "plt.ylabel(\"Number of transactions\")\n",
    "\n",
    "plt.subplot(1, 2, 2)\n",
    "fraud_hours.hist(bins = 24, color = \"red\")\n",
    "plt.title('Fraud transactions by hour')\n",
    "plt.xlabel('Hour of the day')\n",
    "plt.ylabel(\"Number of transactions\")\n",
    "\n",
    "plt.tight_layout()\n",
    "plt.show()"
   ]
  },
  {
   "cell_type": "markdown",
   "id": "91e1fc3a",
   "metadata": {
    "papermill": {
     "duration": 0.016213,
     "end_time": "2023-05-09T05:29:54.885393",
     "exception": false,
     "start_time": "2023-05-09T05:29:54.869180",
     "status": "completed"
    },
    "tags": []
   },
   "source": [
    "#### Insights\n",
    "\n",
    "1. There is a distinct period of time for when valid transactions occur less during the day, which is from Hour0 to Hour9. \n",
    "2. Fraud transactions occur uniformly over hours of the day with little variation. \n",
    "\n",
    "'HourOfDay' is an important feature to add to detect fraudulent transactions. "
   ]
  },
  {
   "cell_type": "code",
   "execution_count": 12,
   "id": "7026f8c8",
   "metadata": {
    "execution": {
     "iopub.execute_input": "2023-05-09T05:29:54.920324Z",
     "iopub.status.busy": "2023-05-09T05:29:54.919661Z",
     "iopub.status.idle": "2023-05-09T05:29:55.051129Z",
     "shell.execute_reply": "2023-05-09T05:29:55.049665Z"
    },
    "papermill": {
     "duration": 0.152391,
     "end_time": "2023-05-09T05:29:55.054142",
     "exception": false,
     "start_time": "2023-05-09T05:29:54.901751",
     "status": "completed"
    },
    "tags": []
   },
   "outputs": [
    {
     "data": {
      "text/html": [
       "<div>\n",
       "<style scoped>\n",
       "    .dataframe tbody tr th:only-of-type {\n",
       "        vertical-align: middle;\n",
       "    }\n",
       "\n",
       "    .dataframe tbody tr th {\n",
       "        vertical-align: top;\n",
       "    }\n",
       "\n",
       "    .dataframe thead th {\n",
       "        text-align: right;\n",
       "    }\n",
       "</style>\n",
       "<table border=\"1\" class=\"dataframe\">\n",
       "  <thead>\n",
       "    <tr style=\"text-align: right;\">\n",
       "      <th></th>\n",
       "      <th>step</th>\n",
       "      <th>type</th>\n",
       "      <th>amount</th>\n",
       "      <th>nameOrig</th>\n",
       "      <th>oldbalanceOrg</th>\n",
       "      <th>newbalanceOrig</th>\n",
       "      <th>nameDest</th>\n",
       "      <th>oldbalanceDest</th>\n",
       "      <th>newbalanceDest</th>\n",
       "      <th>isFraud</th>\n",
       "      <th>isFlaggedFraud</th>\n",
       "      <th>HourOfDay</th>\n",
       "    </tr>\n",
       "  </thead>\n",
       "  <tbody>\n",
       "    <tr>\n",
       "      <th>0</th>\n",
       "      <td>1</td>\n",
       "      <td>PAYMENT</td>\n",
       "      <td>9839.64</td>\n",
       "      <td>C1231006815</td>\n",
       "      <td>170136.0</td>\n",
       "      <td>160296.36</td>\n",
       "      <td>M1979787155</td>\n",
       "      <td>0.0</td>\n",
       "      <td>0.0</td>\n",
       "      <td>0</td>\n",
       "      <td>0</td>\n",
       "      <td>1</td>\n",
       "    </tr>\n",
       "    <tr>\n",
       "      <th>1</th>\n",
       "      <td>1</td>\n",
       "      <td>PAYMENT</td>\n",
       "      <td>1864.28</td>\n",
       "      <td>C1666544295</td>\n",
       "      <td>21249.0</td>\n",
       "      <td>19384.72</td>\n",
       "      <td>M2044282225</td>\n",
       "      <td>0.0</td>\n",
       "      <td>0.0</td>\n",
       "      <td>0</td>\n",
       "      <td>0</td>\n",
       "      <td>1</td>\n",
       "    </tr>\n",
       "    <tr>\n",
       "      <th>2</th>\n",
       "      <td>1</td>\n",
       "      <td>TRANSFER</td>\n",
       "      <td>181.00</td>\n",
       "      <td>C1305486145</td>\n",
       "      <td>181.0</td>\n",
       "      <td>0.00</td>\n",
       "      <td>C553264065</td>\n",
       "      <td>0.0</td>\n",
       "      <td>0.0</td>\n",
       "      <td>1</td>\n",
       "      <td>0</td>\n",
       "      <td>1</td>\n",
       "    </tr>\n",
       "    <tr>\n",
       "      <th>3</th>\n",
       "      <td>1</td>\n",
       "      <td>CASH_OUT</td>\n",
       "      <td>181.00</td>\n",
       "      <td>C840083671</td>\n",
       "      <td>181.0</td>\n",
       "      <td>0.00</td>\n",
       "      <td>C38997010</td>\n",
       "      <td>21182.0</td>\n",
       "      <td>0.0</td>\n",
       "      <td>1</td>\n",
       "      <td>0</td>\n",
       "      <td>1</td>\n",
       "    </tr>\n",
       "    <tr>\n",
       "      <th>4</th>\n",
       "      <td>1</td>\n",
       "      <td>PAYMENT</td>\n",
       "      <td>11668.14</td>\n",
       "      <td>C2048537720</td>\n",
       "      <td>41554.0</td>\n",
       "      <td>29885.86</td>\n",
       "      <td>M1230701703</td>\n",
       "      <td>0.0</td>\n",
       "      <td>0.0</td>\n",
       "      <td>0</td>\n",
       "      <td>0</td>\n",
       "      <td>1</td>\n",
       "    </tr>\n",
       "  </tbody>\n",
       "</table>\n",
       "</div>"
      ],
      "text/plain": [
       "   step      type    amount     nameOrig  oldbalanceOrg  newbalanceOrig  \\\n",
       "0     1   PAYMENT   9839.64  C1231006815       170136.0       160296.36   \n",
       "1     1   PAYMENT   1864.28  C1666544295        21249.0        19384.72   \n",
       "2     1  TRANSFER    181.00  C1305486145          181.0            0.00   \n",
       "3     1  CASH_OUT    181.00   C840083671          181.0            0.00   \n",
       "4     1   PAYMENT  11668.14  C2048537720        41554.0        29885.86   \n",
       "\n",
       "      nameDest  oldbalanceDest  newbalanceDest  isFraud  isFlaggedFraud  \\\n",
       "0  M1979787155             0.0             0.0        0               0   \n",
       "1  M2044282225             0.0             0.0        0               0   \n",
       "2   C553264065             0.0             0.0        1               0   \n",
       "3    C38997010         21182.0             0.0        1               0   \n",
       "4  M1230701703             0.0             0.0        0               0   \n",
       "\n",
       "   HourOfDay  \n",
       "0          1  \n",
       "1          1  \n",
       "2          1  \n",
       "3          1  \n",
       "4          1  "
      ]
     },
     "execution_count": 12,
     "metadata": {},
     "output_type": "execute_result"
    }
   ],
   "source": [
    "# Add new feature HourOfDay\n",
    "data_ml['HourOfDay'] = data.step % 24\n",
    "\n",
    "# View changes\n",
    "data_ml.head()"
   ]
  },
  {
   "cell_type": "markdown",
   "id": "0dff419b",
   "metadata": {
    "papermill": {
     "duration": 0.016389,
     "end_time": "2023-05-09T05:29:55.087823",
     "exception": false,
     "start_time": "2023-05-09T05:29:55.071434",
     "status": "completed"
    },
    "tags": []
   },
   "source": [
    "### 3. Exploring Transaction Type"
   ]
  },
  {
   "cell_type": "code",
   "execution_count": 13,
   "id": "42680db3",
   "metadata": {
    "execution": {
     "iopub.execute_input": "2023-05-09T05:29:55.124411Z",
     "iopub.status.busy": "2023-05-09T05:29:55.123977Z",
     "iopub.status.idle": "2023-05-09T05:29:55.564375Z",
     "shell.execute_reply": "2023-05-09T05:29:55.562546Z"
    },
    "papermill": {
     "duration": 0.462326,
     "end_time": "2023-05-09T05:29:55.567331",
     "exception": false,
     "start_time": "2023-05-09T05:29:55.105005",
     "status": "completed"
    },
    "tags": []
   },
   "outputs": [
    {
     "name": "stdout",
     "output_type": "stream",
     "text": [
      "Valid transactions by type: \n",
      " CASH_OUT    2233384\n",
      "PAYMENT     2151495\n",
      "CASH_IN     1399284\n",
      "TRANSFER     528812\n",
      "DEBIT         41432\n",
      "Name: type, dtype: int64\n",
      " \n",
      " Fraud transactions by type: \n",
      " CASH_OUT    4116\n",
      "TRANSFER    4097\n",
      "Name: type, dtype: int64\n"
     ]
    }
   ],
   "source": [
    "# Valid transactions by type\n",
    "print(\"Valid transactions by type: \\n\",valid.type.value_counts())\n",
    "\n",
    "# Fraud transactions by type \n",
    "print(\" \\n Fraud transactions by type: \\n\",fraud.type.value_counts())"
   ]
  },
  {
   "cell_type": "code",
   "execution_count": 14,
   "id": "353ff4bd",
   "metadata": {
    "execution": {
     "iopub.execute_input": "2023-05-09T05:29:55.605286Z",
     "iopub.status.busy": "2023-05-09T05:29:55.604888Z",
     "iopub.status.idle": "2023-05-09T05:29:56.326166Z",
     "shell.execute_reply": "2023-05-09T05:29:56.324441Z"
    },
    "papermill": {
     "duration": 0.745906,
     "end_time": "2023-05-09T05:29:56.331274",
     "exception": false,
     "start_time": "2023-05-09T05:29:55.585368",
     "status": "completed"
    },
    "tags": []
   },
   "outputs": [
    {
     "data": {
      "image/png": "[encoded data removed]",
      "text/plain": [
       "<Figure size 400x300 with 1 Axes>"
      ]
     },
     "metadata": {},
     "output_type": "display_data"
    },
    {
     "data": {
      "image/png": "[encoded data removed]",
      "text/plain": [
       "<Figure size 400x300 with 1 Axes>"
      ]
     },
     "metadata": {},
     "output_type": "display_data"
    }
   ],
   "source": [
    "# Visualisation of transactions by type\n",
    "valid_type = valid['type'].value_counts()\n",
    "valid_transaction = valid_type.index\n",
    "valid_count = valid_type.values\n",
    "\n",
    "fraud_type = fraud['type'].value_counts()\n",
    "fraud_transaction = fraud_type.index\n",
    "fraud_count = fraud_type.values\n",
    "\n",
    "plt.figure(figsize=(4,3))\n",
    "plt.pie(valid_count, labels= valid_transaction, autopct='%1.0f%%')\n",
    "plt.title(\"Valid transactions by type\")\n",
    "plt.show()\n",
    "\n",
    "plt.figure(figsize=(4,3))\n",
    "plt.pie(fraud_count, labels= fraud_transaction, autopct='%1.0f%%')\n",
    "plt.title(\"Fraud transactions by type\")\n",
    "plt.show()"
   ]
  },
  {
   "cell_type": "markdown",
   "id": "3e64707c",
   "metadata": {
    "papermill": {
     "duration": 0.035898,
     "end_time": "2023-05-09T05:29:56.412893",
     "exception": false,
     "start_time": "2023-05-09T05:29:56.376995",
     "status": "completed"
    },
    "tags": []
   },
   "source": [
    "#### Insights\n",
    "1. There are 5 types of transactions found in valid transactions. Most common transaction type is CASH_OUT, followed by PAYMENT, CASH_IN, TRANSFER and DEBIT. \n",
    "2. Fraud transactions ONLY occur with CASH_OUT and TRANSFER equally at 50% each. \n",
    "\n",
    "'type' is a necessary feature to keep to detect fraudulent transactions. "
   ]
  },
  {
   "cell_type": "markdown",
   "id": "8d43c8a1",
   "metadata": {
    "papermill": {
     "duration": 0.017372,
     "end_time": "2023-05-09T05:29:56.448837",
     "exception": false,
     "start_time": "2023-05-09T05:29:56.431465",
     "status": "completed"
    },
    "tags": []
   },
   "source": [
    "### 4. Exploring Amount of Transaction"
   ]
  },
  {
   "cell_type": "code",
   "execution_count": 15,
   "id": "a1a633d0",
   "metadata": {
    "execution": {
     "iopub.execute_input": "2023-05-09T05:29:56.489283Z",
     "iopub.status.busy": "2023-05-09T05:29:56.488474Z",
     "iopub.status.idle": "2023-05-09T05:29:59.085002Z",
     "shell.execute_reply": "2023-05-09T05:29:59.083538Z"
    },
    "papermill": {
     "duration": 2.620608,
     "end_time": "2023-05-09T05:29:59.087938",
     "exception": false,
     "start_time": "2023-05-09T05:29:56.467330",
     "status": "completed"
    },
    "tags": []
   },
   "outputs": [
    {
     "name": "stdout",
     "output_type": "stream",
     "text": [
      "Valid transactions by amount: \n",
      " count    6.354407e+06\n",
      "mean     1.781970e+05\n",
      "std      5.962370e+05\n",
      "min      1.000000e-02\n",
      "25%      1.336840e+04\n",
      "50%      7.468472e+04\n",
      "75%      2.083648e+05\n",
      "max      9.244552e+07\n",
      "Name: amount, dtype: float64\n",
      " \n",
      " Fraud transactions by amount: \n",
      " count    8.213000e+03\n",
      "mean     1.467967e+06\n",
      "std      2.404253e+06\n",
      "min      0.000000e+00\n",
      "25%      1.270913e+05\n",
      "50%      4.414234e+05\n",
      "75%      1.517771e+06\n",
      "max      1.000000e+07\n",
      "Name: amount, dtype: float64\n"
     ]
    },
    {
     "data": {
      "text/plain": [
       "Text(0.5, 1.0, 'Valid and Fraud Transaction Amounts')"
      ]
     },
     "execution_count": 15,
     "metadata": {},
     "output_type": "execute_result"
    },
    {
     "data": {
      "image/png": "[encoded data removed]",
      "text/plain": [
       "<Figure size 640x480 with 1 Axes>"
      ]
     },
     "metadata": {},
     "output_type": "display_data"
    }
   ],
   "source": [
    "# View summary statistic of valid and fraud transaction amounts\n",
    "print(\"Valid transactions by amount: \\n\", valid['amount'].describe())\n",
    "print(\" \\n Fraud transactions by amount: \\n\", fraud['amount'].describe())\n",
    "\n",
    "# Visualise summary statistics with boxplot\n",
    "sns.boxplot(x = 'isFraud', y = 'amount', data = data_ml)\n",
    "plt.title('Valid and Fraud Transaction Amounts')"
   ]
  },
  {
   "cell_type": "markdown",
   "id": "0b564c1a",
   "metadata": {
    "papermill": {
     "duration": 0.019536,
     "end_time": "2023-05-09T05:29:59.127444",
     "exception": false,
     "start_time": "2023-05-09T05:29:59.107908",
     "status": "completed"
    },
    "tags": []
   },
   "source": [
    "#### Insights\n",
    "1. Average transaction amount is higher in fraud transactions than in valid transactions\n",
    "2. Fraud transactions are capped at 10,000,000 units currency whereas there appears to be no cap for valid transactions. \n",
    "\n",
    "'amount' is a necessary feature to keep to detect fraudulent transactions."
   ]
  },
  {
   "cell_type": "markdown",
   "id": "2197e812",
   "metadata": {
    "papermill": {
     "duration": 0.01829,
     "end_time": "2023-05-09T05:29:59.164953",
     "exception": false,
     "start_time": "2023-05-09T05:29:59.146663",
     "status": "completed"
    },
    "tags": []
   },
   "source": [
    "### Exploring Account Type\n",
    "In nameOrig and nameDest, referring to the name of the initiator and the name of recipient of the transaction, the first character is denoted with either \"C\" or \"M\". \"C\" corresponds to Customer and \"M\" corresponds to Merchant. \n",
    "\n",
    "I will create a new column 'fromto' classifying the account types involved in each transaction and explore whether certain account types are more likely to be fraudulent. \n",
    "\n"
   ]
  },
  {
   "cell_type": "code",
   "execution_count": 16,
   "id": "11cd0156",
   "metadata": {
    "execution": {
     "iopub.execute_input": "2023-05-09T05:29:59.209954Z",
     "iopub.status.busy": "2023-05-09T05:29:59.208517Z",
     "iopub.status.idle": "2023-05-09T05:30:23.645921Z",
     "shell.execute_reply": "2023-05-09T05:30:23.644555Z"
    },
    "papermill": {
     "duration": 24.46045,
     "end_time": "2023-05-09T05:30:23.649231",
     "exception": false,
     "start_time": "2023-05-09T05:29:59.188781",
     "status": "completed"
    },
    "tags": []
   },
   "outputs": [],
   "source": [
    "data_ml[\"fromto\"] = np.nan #create new column \n",
    "\n",
    "# filling feature column\n",
    "data_ml.loc[data.nameOrig.str.contains('C') & data.nameDest.str.contains('C'),\"fromto\"] = \"CC\" \n",
    "data_ml.loc[data.nameOrig.str.contains('C') & data.nameDest.str.contains('M'),\"fromto\"] = \"CM\"\n",
    "data_ml.loc[data.nameOrig.str.contains('M') & data.nameDest.str.contains('C'),\"fromto\"] = \"MC\"\n",
    "data_ml.loc[data.nameOrig.str.contains('M') & data.nameDest.str.contains('M'),\"fromto\"] = \"MM\"\n"
   ]
  },
  {
   "cell_type": "code",
   "execution_count": 17,
   "id": "0bc7c5c7",
   "metadata": {
    "execution": {
     "iopub.execute_input": "2023-05-09T05:30:23.687197Z",
     "iopub.status.busy": "2023-05-09T05:30:23.686790Z",
     "iopub.status.idle": "2023-05-09T05:30:25.979978Z",
     "shell.execute_reply": "2023-05-09T05:30:25.977937Z"
    },
    "papermill": {
     "duration": 2.316091,
     "end_time": "2023-05-09T05:30:25.983305",
     "exception": false,
     "start_time": "2023-05-09T05:30:23.667214",
     "status": "completed"
    },
    "tags": []
   },
   "outputs": [
    {
     "name": "stdout",
     "output_type": "stream",
     "text": [
      "valid transactions by fromto \n",
      " CC    4202912\n",
      "CM    2151495\n",
      "Name: fromto, dtype: int64\n",
      "\n",
      " fraud transactions by fromto \n",
      " CC    8213\n",
      "Name: fromto, dtype: int64\n"
     ]
    }
   ],
   "source": [
    "# Update fraud and valid subsets\n",
    "valid = data_ml[data_ml['isFraud'] == 0]\n",
    "fraud = data_ml[data_ml['isFraud'] == 1]\n",
    "\n",
    "# Explore valid and fraud transactions by fromto accounts\n",
    "print(\"valid transactions by fromto \\n\", valid.fromto.value_counts())\n",
    "print(\"\\n fraud transactions by fromto \\n\", fraud.fromto.value_counts())"
   ]
  },
  {
   "cell_type": "markdown",
   "id": "7c6926c2",
   "metadata": {
    "papermill": {
     "duration": 0.02128,
     "end_time": "2023-05-09T05:30:26.023002",
     "exception": false,
     "start_time": "2023-05-09T05:30:26.001722",
     "status": "completed"
    },
    "tags": []
   },
   "source": [
    "#### Insights \n",
    "\n",
    "1. Valid transactions occur with CC and CM, Customer to Customer and Customer to Merchant.\n",
    "2. Fraud transactions only occur with CC, Customer to Customer. \n",
    "3. No transactions are ever initiated by a Merchant. There are no MC or MM transactions.\n",
    "\n",
    "fromto is an important feature to add to detect fraudalent transactions."
   ]
  },
  {
   "cell_type": "markdown",
   "id": "4d40d2da",
   "metadata": {
    "papermill": {
     "duration": 0.019803,
     "end_time": "2023-05-09T05:30:26.062195",
     "exception": false,
     "start_time": "2023-05-09T05:30:26.042392",
     "status": "completed"
    },
    "tags": []
   },
   "source": [
    "### 5. Exploring Account Balance"
   ]
  },
  {
   "cell_type": "markdown",
   "id": "52a7149a",
   "metadata": {
    "papermill": {
     "duration": 0.019738,
     "end_time": "2023-05-09T05:30:26.101266",
     "exception": false,
     "start_time": "2023-05-09T05:30:26.081528",
     "status": "completed"
    },
    "tags": []
   },
   "source": [
    "There are 4 columns relating to account balance: oldbalanceOrg, newbalanceOrig, oldbalanceDest, newbalanceDest.\n",
    "I will not compare summary statistics of valid vs fraud transactions for all four. That is simply too much. \n",
    "\n",
    "However, when viewing the first 5 rows and last 5 rows of the dataset, I noticed that all transactions where newbalanceOrig = 0 were all fraudulent. I will check if this is coincidental or consistent for the rest of the data."
   ]
  },
  {
   "cell_type": "code",
   "execution_count": 18,
   "id": "bdb723df",
   "metadata": {
    "execution": {
     "iopub.execute_input": "2023-05-09T05:30:26.140773Z",
     "iopub.status.busy": "2023-05-09T05:30:26.140291Z",
     "iopub.status.idle": "2023-05-09T05:30:31.448617Z",
     "shell.execute_reply": "2023-05-09T05:30:31.447377Z"
    },
    "papermill": {
     "duration": 5.331455,
     "end_time": "2023-05-09T05:30:31.451767",
     "exception": false,
     "start_time": "2023-05-09T05:30:26.120312",
     "status": "completed"
    },
    "tags": []
   },
   "outputs": [
    {
     "name": "stdout",
     "output_type": "stream",
     "text": [
      "valid transactions by newbalanceOrig \n",
      " count    6.354407e+06\n",
      "mean     8.559702e+05\n",
      "std      2.924987e+06\n",
      "min      0.000000e+00\n",
      "25%      0.000000e+00\n",
      "50%      0.000000e+00\n",
      "75%      1.447307e+05\n",
      "max      4.368662e+07\n",
      "Name: newbalanceOrig, dtype: float64\n",
      "\n",
      " fraud transactions by newbalanceOrig \n",
      " count    8.213000e+03\n",
      "mean     1.923926e+05\n",
      "std      1.965666e+06\n",
      "min      0.000000e+00\n",
      "25%      0.000000e+00\n",
      "50%      0.000000e+00\n",
      "75%      0.000000e+00\n",
      "max      4.958504e+07\n",
      "Name: newbalanceOrig, dtype: float64\n"
     ]
    },
    {
     "data": {
      "text/plain": [
       "Text(0.5, 1.0, 'Valid and Fraud newbalanceOrig')"
      ]
     },
     "execution_count": 18,
     "metadata": {},
     "output_type": "execute_result"
    },
    {
     "data": {
      "image/png": "[encoded data removed]",
      "text/plain": [
       "<Figure size 640x480 with 1 Axes>"
      ]
     },
     "metadata": {},
     "output_type": "display_data"
    }
   ],
   "source": [
    "print(\"valid transactions by newbalanceOrig \\n\", valid.newbalanceOrig.describe())\n",
    "print(\"\\n fraud transactions by newbalanceOrig \\n\", fraud.newbalanceOrig.describe())\n",
    "\n",
    "sns.boxplot(x = 'isFraud', y = 'newbalanceOrig', data = data_ml)\n",
    "plt.title('Valid and Fraud newbalanceOrig')\n"
   ]
  },
  {
   "cell_type": "markdown",
   "id": "061a99e6",
   "metadata": {
    "papermill": {
     "duration": 0.017598,
     "end_time": "2023-05-09T05:30:31.487657",
     "exception": false,
     "start_time": "2023-05-09T05:30:31.470059",
     "status": "completed"
    },
    "tags": []
   },
   "source": [
    "#### Insight\n",
    "\n",
    "A larger proportion of fraud transactions have newbalanceOrig = 0. However, valid transactions do also have newbalanceOrig = 0. It was only **coincidental** that only fraud transactions appeared in the first 5 and last 5 rows where newbalanceOrig = 0. "
   ]
  },
  {
   "cell_type": "markdown",
   "id": "59d67c41",
   "metadata": {
    "papermill": {
     "duration": 0.017575,
     "end_time": "2023-05-09T05:30:31.523710",
     "exception": false,
     "start_time": "2023-05-09T05:30:31.506135",
     "status": "completed"
    },
    "tags": []
   },
   "source": [
    "From earlier observation, some transactions appear to have errors where newbalance don't match with oldbalance and amount transferred. I will check for the percentage of transactions with balance errors. "
   ]
  },
  {
   "cell_type": "code",
   "execution_count": 19,
   "id": "ebbc2dcf",
   "metadata": {
    "execution": {
     "iopub.execute_input": "2023-05-09T05:30:31.563604Z",
     "iopub.status.busy": "2023-05-09T05:30:31.562431Z",
     "iopub.status.idle": "2023-05-09T05:30:33.002148Z",
     "shell.execute_reply": "2023-05-09T05:30:32.999757Z"
    },
    "papermill": {
     "duration": 1.463257,
     "end_time": "2023-05-09T05:30:33.005689",
     "exception": false,
     "start_time": "2023-05-09T05:30:31.542432",
     "status": "completed"
    },
    "tags": []
   },
   "outputs": [
    {
     "name": "stdout",
     "output_type": "stream",
     "text": [
      "Percentage of transactions with balance errors in initiating account:  85.0\n",
      "Percentage of transactions with balance errors in the recipient account:  74.0\n"
     ]
    }
   ],
   "source": [
    "# Find percentage of transactions with balance errors\n",
    "wrong_orig_bal = sum(data[\"oldbalanceOrg\"] - data[\"amount\"] != data[\"newbalanceOrig\"])\n",
    "wrong_dest_bal = sum(data[\"oldbalanceDest\"] + data[\"amount\"] != data[\"newbalanceDest\"])\n",
    "\n",
    "print(\"Percentage of transactions with balance errors in initiating account: \", 100*round(wrong_orig_bal/len(data),2))\n",
    "print(\"Percentage of transactions with balance errors in the recipient account: \", 100*round(wrong_dest_bal/len(data),2))"
   ]
  },
  {
   "cell_type": "markdown",
   "id": "8d6c817c",
   "metadata": {
    "papermill": {
     "duration": 0.018561,
     "end_time": "2023-05-09T05:30:33.045426",
     "exception": false,
     "start_time": "2023-05-09T05:30:33.026865",
     "status": "completed"
    },
    "tags": []
   },
   "source": [
    "#### Insight\n",
    "\n",
    "85% of transactions have balance errors in intiating account while 74% of transactions have balance errors in recipient account. \n",
    "\n",
    "Since we do not the reason why/how these errors occur, we do not know how to treat them.\n",
    "\n",
    "One important note is that, if these errors are consistent and there is a pattern in valid transaction and fraud transactions, it is worth keeping the data to identify fraudulent transactions. Let's dig deeper to uncover any potential patterns."
   ]
  },
  {
   "cell_type": "code",
   "execution_count": 20,
   "id": "7294017d",
   "metadata": {
    "execution": {
     "iopub.execute_input": "2023-05-09T05:30:33.088345Z",
     "iopub.status.busy": "2023-05-09T05:30:33.087834Z",
     "iopub.status.idle": "2023-05-09T05:30:34.367307Z",
     "shell.execute_reply": "2023-05-09T05:30:34.365807Z"
    },
    "papermill": {
     "duration": 1.305184,
     "end_time": "2023-05-09T05:30:34.370836",
     "exception": false,
     "start_time": "2023-05-09T05:30:33.065652",
     "status": "completed"
    },
    "tags": []
   },
   "outputs": [],
   "source": [
    "# Create new column to denote error balance amounts\n",
    "data_ml[\"errorBalanceOrig\"] = data_ml.oldbalanceOrg - data_ml.newbalanceOrig - data_ml.amount\n",
    "data_ml[\"errorBalanceDest\"] = data_ml.newbalanceDest - data_ml.oldbalanceDest - data_ml.amount\n",
    "\n",
    "# Update valid and fraud subset\n",
    "valid = data_ml[data_ml['isFraud'] == 0]\n",
    "fraud = data_ml[data_ml['isFraud'] == 1]"
   ]
  },
  {
   "cell_type": "code",
   "execution_count": 21,
   "id": "db8fbf2d",
   "metadata": {
    "execution": {
     "iopub.execute_input": "2023-05-09T05:30:34.415838Z",
     "iopub.status.busy": "2023-05-09T05:30:34.414475Z",
     "iopub.status.idle": "2023-05-09T05:30:48.206415Z",
     "shell.execute_reply": "2023-05-09T05:30:48.204761Z"
    },
    "papermill": {
     "duration": 13.816888,
     "end_time": "2023-05-09T05:30:48.209565",
     "exception": false,
     "start_time": "2023-05-09T05:30:34.392677",
     "status": "completed"
    },
    "tags": []
   },
   "outputs": [
    {
     "data": {
      "image/png": "[encoded data removed]",
      "text/plain": [
       "<Figure size 640x480 with 1 Axes>"
      ]
     },
     "metadata": {},
     "output_type": "display_data"
    }
   ],
   "source": [
    "# Create scatterplot to visualise errorBalanceOrig and errorBalanceDest between valid and fraud transactions\n",
    "plt.scatter(x = valid['errorBalanceOrig'],y = valid['errorBalanceDest'], c='green', label= 'valid')\n",
    "plt.scatter(x = fraud['errorBalanceOrig'],y = fraud['errorBalanceDest'], c='red', label= 'fraud')\n",
    "plt.legend(loc='upper left')\n",
    "plt.title(\"errorBalanceOrig vs errorBalanceDest\")\n",
    "plt.xlabel('errorBalanceOrig')\n",
    "plt.ylabel(\"errorBalanceDest\")\n",
    "plt.grid(linestyle = '--')\n",
    "plt.show()"
   ]
  },
  {
   "cell_type": "markdown",
   "id": "51ff0f7f",
   "metadata": {
    "papermill": {
     "duration": 0.018526,
     "end_time": "2023-05-09T05:30:48.247168",
     "exception": false,
     "start_time": "2023-05-09T05:30:48.228642",
     "status": "completed"
    },
    "tags": []
   },
   "source": [
    "#### Insights\n",
    "\n",
    "1. A large proportion of Valid transactions have 0 errorBalanceDest, 0 errorBalanceOrig, or -1e7 errorBalanceOrig. \n",
    "2. A majority of Fraud transactions have 0 errorBalanceOrig with +/- 1e7 errorBalanceDest. \n",
    "\n",
    "There are distinguishable differences between valid and fraud transactions in terms of errorbalance.\n",
    "\n",
    "'errorBalanceOrig' and 'errorBalanceDest' are both necessary features to include to detect fraudulent transactions. "
   ]
  },
  {
   "cell_type": "markdown",
   "id": "139a281a",
   "metadata": {
    "papermill": {
     "duration": 0.01854,
     "end_time": "2023-05-09T05:30:48.284369",
     "exception": false,
     "start_time": "2023-05-09T05:30:48.265829",
     "status": "completed"
    },
    "tags": []
   },
   "source": [
    "### 6. Exploring Flagged Transactions"
   ]
  },
  {
   "cell_type": "code",
   "execution_count": 22,
   "id": "84dbfcd6",
   "metadata": {
    "execution": {
     "iopub.execute_input": "2023-05-09T05:30:48.324190Z",
     "iopub.status.busy": "2023-05-09T05:30:48.323789Z",
     "iopub.status.idle": "2023-05-09T05:30:48.958155Z",
     "shell.execute_reply": "2023-05-09T05:30:48.956486Z"
    },
    "papermill": {
     "duration": 0.657826,
     "end_time": "2023-05-09T05:30:48.961019",
     "exception": false,
     "start_time": "2023-05-09T05:30:48.303193",
     "status": "completed"
    },
    "tags": []
   },
   "outputs": [
    {
     "name": "stdout",
     "output_type": "stream",
     "text": [
      " Number of transactions flagged: 16\n",
      "Number of transactions that should've been flagged: 409110\n",
      "16 transactions out of 16 transactions were flagged correctly according to criteria\n",
      "Number of transactions flagged and was fraud: 16\n"
     ]
    }
   ],
   "source": [
    "# How many transactions were flagged as fraud? \n",
    "flagged = data_ml[data_ml[\"isFlaggedFraud\"] == 1] \n",
    "n_flagged = data_ml.isFlaggedFraud.sum()\n",
    "print(\" Number of transactions flagged:\", n_flagged)\n",
    "\n",
    "# How many transactions should have been flagged (fit the criteria of \"TRANSFER\" type and \n",
    "# amount > 200,000 units)\n",
    "illegal = data_ml[(data_ml[\"amount\"] > 200000) & (data_ml[\"type\"] == 'TRANSFER')]\n",
    "print(\"Number of transactions that should've been flagged:\", len(illegal))\n",
    "\n",
    "# Do flagged transactions fit the criteria to be flagged?\n",
    "flagged_correctly = flagged[(flagged[\"amount\"] > 200000) & (flagged[\"type\"] == 'TRANSFER')]\n",
    "print(len(flagged_correctly), \"transactions out of\", n_flagged, \"transactions were flagged correctly according to criteria\")\n",
    "\n",
    "# How many flagged transactions were actually fraud?\n",
    "print(\"Number of transactions flagged and was fraud:\",flagged.isFraud.sum())"
   ]
  },
  {
   "cell_type": "markdown",
   "id": "5b4e6f47",
   "metadata": {
    "papermill": {
     "duration": 0.019895,
     "end_time": "2023-05-09T05:30:49.000656",
     "exception": false,
     "start_time": "2023-05-09T05:30:48.980761",
     "status": "completed"
    },
    "tags": []
   },
   "source": [
    "#### Insights\n",
    "1. 409110 transactions fit the criteria of being an illegal attempt to transfer money, however only 16 of these transactions were flagged by the model.\n",
    "2. Out of the 16 flagged transactions, all 16 were identified as fraudulent. \n",
    "\n",
    "'isFlaggedFraud' is a criteria based off two other columns in the dataset, however it does not function properly as most transactions that fit the criteria are not flagged. Additionally, since the criteria is based off other columns in the dataset and does not reveal significant information regarding fraudulent transactions, 'isFlaggedFraud' will not be included as a feature. "
   ]
  },
  {
   "cell_type": "markdown",
   "id": "adf2377e",
   "metadata": {
    "papermill": {
     "duration": 0.019448,
     "end_time": "2023-05-09T05:30:49.042698",
     "exception": false,
     "start_time": "2023-05-09T05:30:49.023250",
     "status": "completed"
    },
    "tags": []
   },
   "source": [
    "## Preprocessing Data "
   ]
  },
  {
   "cell_type": "markdown",
   "id": "21d69dee",
   "metadata": {
    "papermill": {
     "duration": 0.019478,
     "end_time": "2023-05-09T05:30:49.082637",
     "exception": false,
     "start_time": "2023-05-09T05:30:49.063159",
     "status": "completed"
    },
    "tags": []
   },
   "source": [
    "### 1. Dropping unused feature/columns"
   ]
  },
  {
   "cell_type": "code",
   "execution_count": 23,
   "id": "78515fa3",
   "metadata": {
    "execution": {
     "iopub.execute_input": "2023-05-09T05:30:49.125204Z",
     "iopub.status.busy": "2023-05-09T05:30:49.124718Z",
     "iopub.status.idle": "2023-05-09T05:30:49.148978Z",
     "shell.execute_reply": "2023-05-09T05:30:49.147712Z"
    },
    "papermill": {
     "duration": 0.048518,
     "end_time": "2023-05-09T05:30:49.151590",
     "exception": false,
     "start_time": "2023-05-09T05:30:49.103072",
     "status": "completed"
    },
    "tags": []
   },
   "outputs": [
    {
     "data": {
      "text/html": [
       "<div>\n",
       "<style scoped>\n",
       "    .dataframe tbody tr th:only-of-type {\n",
       "        vertical-align: middle;\n",
       "    }\n",
       "\n",
       "    .dataframe tbody tr th {\n",
       "        vertical-align: top;\n",
       "    }\n",
       "\n",
       "    .dataframe thead th {\n",
       "        text-align: right;\n",
       "    }\n",
       "</style>\n",
       "<table border=\"1\" class=\"dataframe\">\n",
       "  <thead>\n",
       "    <tr style=\"text-align: right;\">\n",
       "      <th></th>\n",
       "      <th>step</th>\n",
       "      <th>type</th>\n",
       "      <th>amount</th>\n",
       "      <th>nameOrig</th>\n",
       "      <th>oldbalanceOrg</th>\n",
       "      <th>newbalanceOrig</th>\n",
       "      <th>nameDest</th>\n",
       "      <th>oldbalanceDest</th>\n",
       "      <th>newbalanceDest</th>\n",
       "      <th>isFraud</th>\n",
       "      <th>isFlaggedFraud</th>\n",
       "      <th>HourOfDay</th>\n",
       "      <th>fromto</th>\n",
       "      <th>errorBalanceOrig</th>\n",
       "      <th>errorBalanceDest</th>\n",
       "    </tr>\n",
       "  </thead>\n",
       "  <tbody>\n",
       "    <tr>\n",
       "      <th>0</th>\n",
       "      <td>1</td>\n",
       "      <td>PAYMENT</td>\n",
       "      <td>9839.64</td>\n",
       "      <td>C1231006815</td>\n",
       "      <td>170136.0</td>\n",
       "      <td>160296.36</td>\n",
       "      <td>M1979787155</td>\n",
       "      <td>0.0</td>\n",
       "      <td>0.0</td>\n",
       "      <td>0</td>\n",
       "      <td>0</td>\n",
       "      <td>1</td>\n",
       "      <td>CM</td>\n",
       "      <td>1.455192e-11</td>\n",
       "      <td>-9839.64</td>\n",
       "    </tr>\n",
       "    <tr>\n",
       "      <th>1</th>\n",
       "      <td>1</td>\n",
       "      <td>PAYMENT</td>\n",
       "      <td>1864.28</td>\n",
       "      <td>C1666544295</td>\n",
       "      <td>21249.0</td>\n",
       "      <td>19384.72</td>\n",
       "      <td>M2044282225</td>\n",
       "      <td>0.0</td>\n",
       "      <td>0.0</td>\n",
       "      <td>0</td>\n",
       "      <td>0</td>\n",
       "      <td>1</td>\n",
       "      <td>CM</td>\n",
       "      <td>-1.136868e-12</td>\n",
       "      <td>-1864.28</td>\n",
       "    </tr>\n",
       "    <tr>\n",
       "      <th>2</th>\n",
       "      <td>1</td>\n",
       "      <td>TRANSFER</td>\n",
       "      <td>181.00</td>\n",
       "      <td>C1305486145</td>\n",
       "      <td>181.0</td>\n",
       "      <td>0.00</td>\n",
       "      <td>C553264065</td>\n",
       "      <td>0.0</td>\n",
       "      <td>0.0</td>\n",
       "      <td>1</td>\n",
       "      <td>0</td>\n",
       "      <td>1</td>\n",
       "      <td>CC</td>\n",
       "      <td>0.000000e+00</td>\n",
       "      <td>-181.00</td>\n",
       "    </tr>\n",
       "    <tr>\n",
       "      <th>3</th>\n",
       "      <td>1</td>\n",
       "      <td>CASH_OUT</td>\n",
       "      <td>181.00</td>\n",
       "      <td>C840083671</td>\n",
       "      <td>181.0</td>\n",
       "      <td>0.00</td>\n",
       "      <td>C38997010</td>\n",
       "      <td>21182.0</td>\n",
       "      <td>0.0</td>\n",
       "      <td>1</td>\n",
       "      <td>0</td>\n",
       "      <td>1</td>\n",
       "      <td>CC</td>\n",
       "      <td>0.000000e+00</td>\n",
       "      <td>-21363.00</td>\n",
       "    </tr>\n",
       "    <tr>\n",
       "      <th>4</th>\n",
       "      <td>1</td>\n",
       "      <td>PAYMENT</td>\n",
       "      <td>11668.14</td>\n",
       "      <td>C2048537720</td>\n",
       "      <td>41554.0</td>\n",
       "      <td>29885.86</td>\n",
       "      <td>M1230701703</td>\n",
       "      <td>0.0</td>\n",
       "      <td>0.0</td>\n",
       "      <td>0</td>\n",
       "      <td>0</td>\n",
       "      <td>1</td>\n",
       "      <td>CM</td>\n",
       "      <td>0.000000e+00</td>\n",
       "      <td>-11668.14</td>\n",
       "    </tr>\n",
       "  </tbody>\n",
       "</table>\n",
       "</div>"
      ],
      "text/plain": [
       "   step      type    amount     nameOrig  oldbalanceOrg  newbalanceOrig  \\\n",
       "0     1   PAYMENT   9839.64  C1231006815       170136.0       160296.36   \n",
       "1     1   PAYMENT   1864.28  C1666544295        21249.0        19384.72   \n",
       "2     1  TRANSFER    181.00  C1305486145          181.0            0.00   \n",
       "3     1  CASH_OUT    181.00   C840083671          181.0            0.00   \n",
       "4     1   PAYMENT  11668.14  C2048537720        41554.0        29885.86   \n",
       "\n",
       "      nameDest  oldbalanceDest  newbalanceDest  isFraud  isFlaggedFraud  \\\n",
       "0  M1979787155             0.0             0.0        0               0   \n",
       "1  M2044282225             0.0             0.0        0               0   \n",
       "2   C553264065             0.0             0.0        1               0   \n",
       "3    C38997010         21182.0             0.0        1               0   \n",
       "4  M1230701703             0.0             0.0        0               0   \n",
       "\n",
       "   HourOfDay fromto  errorBalanceOrig  errorBalanceDest  \n",
       "0          1     CM      1.455192e-11          -9839.64  \n",
       "1          1     CM     -1.136868e-12          -1864.28  \n",
       "2          1     CC      0.000000e+00           -181.00  \n",
       "3          1     CC      0.000000e+00         -21363.00  \n",
       "4          1     CM      0.000000e+00         -11668.14  "
      ]
     },
     "execution_count": 23,
     "metadata": {},
     "output_type": "execute_result"
    }
   ],
   "source": [
    "# View our current table\n",
    "data_ml.head()"
   ]
  },
  {
   "cell_type": "code",
   "execution_count": 24,
   "id": "4b737b7b",
   "metadata": {
    "execution": {
     "iopub.execute_input": "2023-05-09T05:30:49.198038Z",
     "iopub.status.busy": "2023-05-09T05:30:49.197601Z",
     "iopub.status.idle": "2023-05-09T05:30:49.458571Z",
     "shell.execute_reply": "2023-05-09T05:30:49.457053Z"
    },
    "papermill": {
     "duration": 0.288972,
     "end_time": "2023-05-09T05:30:49.461611",
     "exception": false,
     "start_time": "2023-05-09T05:30:49.172639",
     "status": "completed"
    },
    "tags": []
   },
   "outputs": [],
   "source": [
    "# Drop columns\n",
    "data_ml = data_ml.drop(['step', 'nameOrig', 'nameDest', 'newbalanceOrig', 'newbalanceDest',\n",
    "                        'isFlaggedFraud'], axis =1)"
   ]
  },
  {
   "cell_type": "markdown",
   "id": "2c48974d",
   "metadata": {
    "papermill": {
     "duration": 0.019518,
     "end_time": "2023-05-09T05:30:49.501291",
     "exception": false,
     "start_time": "2023-05-09T05:30:49.481773",
     "status": "completed"
    },
    "tags": []
   },
   "source": [
    "### 2. Encoding Categorical Variables"
   ]
  },
  {
   "cell_type": "code",
   "execution_count": 25,
   "id": "7bc8d86c",
   "metadata": {
    "execution": {
     "iopub.execute_input": "2023-05-09T05:30:49.544659Z",
     "iopub.status.busy": "2023-05-09T05:30:49.544143Z",
     "iopub.status.idle": "2023-05-09T05:30:49.562410Z",
     "shell.execute_reply": "2023-05-09T05:30:49.561125Z"
    },
    "papermill": {
     "duration": 0.042958,
     "end_time": "2023-05-09T05:30:49.565013",
     "exception": false,
     "start_time": "2023-05-09T05:30:49.522055",
     "status": "completed"
    },
    "tags": []
   },
   "outputs": [
    {
     "data": {
      "text/html": [
       "<div>\n",
       "<style scoped>\n",
       "    .dataframe tbody tr th:only-of-type {\n",
       "        vertical-align: middle;\n",
       "    }\n",
       "\n",
       "    .dataframe tbody tr th {\n",
       "        vertical-align: top;\n",
       "    }\n",
       "\n",
       "    .dataframe thead th {\n",
       "        text-align: right;\n",
       "    }\n",
       "</style>\n",
       "<table border=\"1\" class=\"dataframe\">\n",
       "  <thead>\n",
       "    <tr style=\"text-align: right;\">\n",
       "      <th></th>\n",
       "      <th>type</th>\n",
       "      <th>amount</th>\n",
       "      <th>oldbalanceOrg</th>\n",
       "      <th>oldbalanceDest</th>\n",
       "      <th>isFraud</th>\n",
       "      <th>HourOfDay</th>\n",
       "      <th>fromto</th>\n",
       "      <th>errorBalanceOrig</th>\n",
       "      <th>errorBalanceDest</th>\n",
       "    </tr>\n",
       "  </thead>\n",
       "  <tbody>\n",
       "    <tr>\n",
       "      <th>0</th>\n",
       "      <td>PAYMENT</td>\n",
       "      <td>9839.64</td>\n",
       "      <td>170136.0</td>\n",
       "      <td>0.0</td>\n",
       "      <td>0</td>\n",
       "      <td>1</td>\n",
       "      <td>CM</td>\n",
       "      <td>1.455192e-11</td>\n",
       "      <td>-9839.64</td>\n",
       "    </tr>\n",
       "    <tr>\n",
       "      <th>1</th>\n",
       "      <td>PAYMENT</td>\n",
       "      <td>1864.28</td>\n",
       "      <td>21249.0</td>\n",
       "      <td>0.0</td>\n",
       "      <td>0</td>\n",
       "      <td>1</td>\n",
       "      <td>CM</td>\n",
       "      <td>-1.136868e-12</td>\n",
       "      <td>-1864.28</td>\n",
       "    </tr>\n",
       "    <tr>\n",
       "      <th>2</th>\n",
       "      <td>TRANSFER</td>\n",
       "      <td>181.00</td>\n",
       "      <td>181.0</td>\n",
       "      <td>0.0</td>\n",
       "      <td>1</td>\n",
       "      <td>1</td>\n",
       "      <td>CC</td>\n",
       "      <td>0.000000e+00</td>\n",
       "      <td>-181.00</td>\n",
       "    </tr>\n",
       "    <tr>\n",
       "      <th>3</th>\n",
       "      <td>CASH_OUT</td>\n",
       "      <td>181.00</td>\n",
       "      <td>181.0</td>\n",
       "      <td>21182.0</td>\n",
       "      <td>1</td>\n",
       "      <td>1</td>\n",
       "      <td>CC</td>\n",
       "      <td>0.000000e+00</td>\n",
       "      <td>-21363.00</td>\n",
       "    </tr>\n",
       "    <tr>\n",
       "      <th>4</th>\n",
       "      <td>PAYMENT</td>\n",
       "      <td>11668.14</td>\n",
       "      <td>41554.0</td>\n",
       "      <td>0.0</td>\n",
       "      <td>0</td>\n",
       "      <td>1</td>\n",
       "      <td>CM</td>\n",
       "      <td>0.000000e+00</td>\n",
       "      <td>-11668.14</td>\n",
       "    </tr>\n",
       "  </tbody>\n",
       "</table>\n",
       "</div>"
      ],
      "text/plain": [
       "       type    amount  oldbalanceOrg  oldbalanceDest  isFraud  HourOfDay  \\\n",
       "0   PAYMENT   9839.64       170136.0             0.0        0          1   \n",
       "1   PAYMENT   1864.28        21249.0             0.0        0          1   \n",
       "2  TRANSFER    181.00          181.0             0.0        1          1   \n",
       "3  CASH_OUT    181.00          181.0         21182.0        1          1   \n",
       "4   PAYMENT  11668.14        41554.0             0.0        0          1   \n",
       "\n",
       "  fromto  errorBalanceOrig  errorBalanceDest  \n",
       "0     CM      1.455192e-11          -9839.64  \n",
       "1     CM     -1.136868e-12          -1864.28  \n",
       "2     CC      0.000000e+00           -181.00  \n",
       "3     CC      0.000000e+00         -21363.00  \n",
       "4     CM      0.000000e+00         -11668.14  "
      ]
     },
     "execution_count": 25,
     "metadata": {},
     "output_type": "execute_result"
    }
   ],
   "source": [
    "# View our current table\n",
    "data_ml.head()"
   ]
  },
  {
   "cell_type": "code",
   "execution_count": 26,
   "id": "6f5341dc",
   "metadata": {
    "execution": {
     "iopub.execute_input": "2023-05-09T05:30:49.607846Z",
     "iopub.status.busy": "2023-05-09T05:30:49.607387Z",
     "iopub.status.idle": "2023-05-09T05:30:51.448574Z",
     "shell.execute_reply": "2023-05-09T05:30:51.447008Z"
    },
    "papermill": {
     "duration": 1.865812,
     "end_time": "2023-05-09T05:30:51.451328",
     "exception": false,
     "start_time": "2023-05-09T05:30:49.585516",
     "status": "completed"
    },
    "tags": []
   },
   "outputs": [
    {
     "data": {
      "text/html": [
       "<div>\n",
       "<style scoped>\n",
       "    .dataframe tbody tr th:only-of-type {\n",
       "        vertical-align: middle;\n",
       "    }\n",
       "\n",
       "    .dataframe tbody tr th {\n",
       "        vertical-align: top;\n",
       "    }\n",
       "\n",
       "    .dataframe thead th {\n",
       "        text-align: right;\n",
       "    }\n",
       "</style>\n",
       "<table border=\"1\" class=\"dataframe\">\n",
       "  <thead>\n",
       "    <tr style=\"text-align: right;\">\n",
       "      <th></th>\n",
       "      <th>amount</th>\n",
       "      <th>oldbalanceOrg</th>\n",
       "      <th>oldbalanceDest</th>\n",
       "      <th>isFraud</th>\n",
       "      <th>HourOfDay</th>\n",
       "      <th>errorBalanceOrig</th>\n",
       "      <th>errorBalanceDest</th>\n",
       "      <th>type_CASH_IN</th>\n",
       "      <th>type_CASH_OUT</th>\n",
       "      <th>type_DEBIT</th>\n",
       "      <th>type_PAYMENT</th>\n",
       "      <th>type_TRANSFER</th>\n",
       "      <th>fromto_CC</th>\n",
       "      <th>fromto_CM</th>\n",
       "    </tr>\n",
       "  </thead>\n",
       "  <tbody>\n",
       "    <tr>\n",
       "      <th>0</th>\n",
       "      <td>9839.64</td>\n",
       "      <td>170136.00</td>\n",
       "      <td>0.00</td>\n",
       "      <td>0</td>\n",
       "      <td>1</td>\n",
       "      <td>1.455192e-11</td>\n",
       "      <td>-9.839640e+03</td>\n",
       "      <td>0</td>\n",
       "      <td>0</td>\n",
       "      <td>0</td>\n",
       "      <td>1</td>\n",
       "      <td>0</td>\n",
       "      <td>0</td>\n",
       "      <td>1</td>\n",
       "    </tr>\n",
       "    <tr>\n",
       "      <th>1</th>\n",
       "      <td>1864.28</td>\n",
       "      <td>21249.00</td>\n",
       "      <td>0.00</td>\n",
       "      <td>0</td>\n",
       "      <td>1</td>\n",
       "      <td>-1.136868e-12</td>\n",
       "      <td>-1.864280e+03</td>\n",
       "      <td>0</td>\n",
       "      <td>0</td>\n",
       "      <td>0</td>\n",
       "      <td>1</td>\n",
       "      <td>0</td>\n",
       "      <td>0</td>\n",
       "      <td>1</td>\n",
       "    </tr>\n",
       "    <tr>\n",
       "      <th>2</th>\n",
       "      <td>181.00</td>\n",
       "      <td>181.00</td>\n",
       "      <td>0.00</td>\n",
       "      <td>1</td>\n",
       "      <td>1</td>\n",
       "      <td>0.000000e+00</td>\n",
       "      <td>-1.810000e+02</td>\n",
       "      <td>0</td>\n",
       "      <td>0</td>\n",
       "      <td>0</td>\n",
       "      <td>0</td>\n",
       "      <td>1</td>\n",
       "      <td>1</td>\n",
       "      <td>0</td>\n",
       "    </tr>\n",
       "    <tr>\n",
       "      <th>3</th>\n",
       "      <td>181.00</td>\n",
       "      <td>181.00</td>\n",
       "      <td>21182.00</td>\n",
       "      <td>1</td>\n",
       "      <td>1</td>\n",
       "      <td>0.000000e+00</td>\n",
       "      <td>-2.136300e+04</td>\n",
       "      <td>0</td>\n",
       "      <td>1</td>\n",
       "      <td>0</td>\n",
       "      <td>0</td>\n",
       "      <td>0</td>\n",
       "      <td>1</td>\n",
       "      <td>0</td>\n",
       "    </tr>\n",
       "    <tr>\n",
       "      <th>4</th>\n",
       "      <td>11668.14</td>\n",
       "      <td>41554.00</td>\n",
       "      <td>0.00</td>\n",
       "      <td>0</td>\n",
       "      <td>1</td>\n",
       "      <td>0.000000e+00</td>\n",
       "      <td>-1.166814e+04</td>\n",
       "      <td>0</td>\n",
       "      <td>0</td>\n",
       "      <td>0</td>\n",
       "      <td>1</td>\n",
       "      <td>0</td>\n",
       "      <td>0</td>\n",
       "      <td>1</td>\n",
       "    </tr>\n",
       "    <tr>\n",
       "      <th>...</th>\n",
       "      <td>...</td>\n",
       "      <td>...</td>\n",
       "      <td>...</td>\n",
       "      <td>...</td>\n",
       "      <td>...</td>\n",
       "      <td>...</td>\n",
       "      <td>...</td>\n",
       "      <td>...</td>\n",
       "      <td>...</td>\n",
       "      <td>...</td>\n",
       "      <td>...</td>\n",
       "      <td>...</td>\n",
       "      <td>...</td>\n",
       "      <td>...</td>\n",
       "    </tr>\n",
       "    <tr>\n",
       "      <th>6362615</th>\n",
       "      <td>339682.13</td>\n",
       "      <td>339682.13</td>\n",
       "      <td>0.00</td>\n",
       "      <td>1</td>\n",
       "      <td>23</td>\n",
       "      <td>0.000000e+00</td>\n",
       "      <td>0.000000e+00</td>\n",
       "      <td>0</td>\n",
       "      <td>1</td>\n",
       "      <td>0</td>\n",
       "      <td>0</td>\n",
       "      <td>0</td>\n",
       "      <td>1</td>\n",
       "      <td>0</td>\n",
       "    </tr>\n",
       "    <tr>\n",
       "      <th>6362616</th>\n",
       "      <td>6311409.28</td>\n",
       "      <td>6311409.28</td>\n",
       "      <td>0.00</td>\n",
       "      <td>1</td>\n",
       "      <td>23</td>\n",
       "      <td>0.000000e+00</td>\n",
       "      <td>-6.311409e+06</td>\n",
       "      <td>0</td>\n",
       "      <td>0</td>\n",
       "      <td>0</td>\n",
       "      <td>0</td>\n",
       "      <td>1</td>\n",
       "      <td>1</td>\n",
       "      <td>0</td>\n",
       "    </tr>\n",
       "    <tr>\n",
       "      <th>6362617</th>\n",
       "      <td>6311409.28</td>\n",
       "      <td>6311409.28</td>\n",
       "      <td>68488.84</td>\n",
       "      <td>1</td>\n",
       "      <td>23</td>\n",
       "      <td>0.000000e+00</td>\n",
       "      <td>-1.000000e-02</td>\n",
       "      <td>0</td>\n",
       "      <td>1</td>\n",
       "      <td>0</td>\n",
       "      <td>0</td>\n",
       "      <td>0</td>\n",
       "      <td>1</td>\n",
       "      <td>0</td>\n",
       "    </tr>\n",
       "    <tr>\n",
       "      <th>6362618</th>\n",
       "      <td>850002.52</td>\n",
       "      <td>850002.52</td>\n",
       "      <td>0.00</td>\n",
       "      <td>1</td>\n",
       "      <td>23</td>\n",
       "      <td>0.000000e+00</td>\n",
       "      <td>-8.500025e+05</td>\n",
       "      <td>0</td>\n",
       "      <td>0</td>\n",
       "      <td>0</td>\n",
       "      <td>0</td>\n",
       "      <td>1</td>\n",
       "      <td>1</td>\n",
       "      <td>0</td>\n",
       "    </tr>\n",
       "    <tr>\n",
       "      <th>6362619</th>\n",
       "      <td>850002.52</td>\n",
       "      <td>850002.52</td>\n",
       "      <td>6510099.11</td>\n",
       "      <td>1</td>\n",
       "      <td>23</td>\n",
       "      <td>0.000000e+00</td>\n",
       "      <td>-4.656613e-10</td>\n",
       "      <td>0</td>\n",
       "      <td>1</td>\n",
       "      <td>0</td>\n",
       "      <td>0</td>\n",
       "      <td>0</td>\n",
       "      <td>1</td>\n",
       "      <td>0</td>\n",
       "    </tr>\n",
       "  </tbody>\n",
       "</table>\n",
       "<p>6362620 rows × 14 columns</p>\n",
       "</div>"
      ],
      "text/plain": [
       "             amount  oldbalanceOrg  oldbalanceDest  isFraud  HourOfDay  \\\n",
       "0           9839.64      170136.00            0.00        0          1   \n",
       "1           1864.28       21249.00            0.00        0          1   \n",
       "2            181.00         181.00            0.00        1          1   \n",
       "3            181.00         181.00        21182.00        1          1   \n",
       "4          11668.14       41554.00            0.00        0          1   \n",
       "...             ...            ...             ...      ...        ...   \n",
       "6362615   339682.13      339682.13            0.00        1         23   \n",
       "6362616  6311409.28     6311409.28            0.00        1         23   \n",
       "6362617  6311409.28     6311409.28        68488.84        1         23   \n",
       "6362618   850002.52      850002.52            0.00        1         23   \n",
       "6362619   850002.52      850002.52      6510099.11        1         23   \n",
       "\n",
       "         errorBalanceOrig  errorBalanceDest  type_CASH_IN  type_CASH_OUT  \\\n",
       "0            1.455192e-11     -9.839640e+03             0              0   \n",
       "1           -1.136868e-12     -1.864280e+03             0              0   \n",
       "2            0.000000e+00     -1.810000e+02             0              0   \n",
       "3            0.000000e+00     -2.136300e+04             0              1   \n",
       "4            0.000000e+00     -1.166814e+04             0              0   \n",
       "...                   ...               ...           ...            ...   \n",
       "6362615      0.000000e+00      0.000000e+00             0              1   \n",
       "6362616      0.000000e+00     -6.311409e+06             0              0   \n",
       "6362617      0.000000e+00     -1.000000e-02             0              1   \n",
       "6362618      0.000000e+00     -8.500025e+05             0              0   \n",
       "6362619      0.000000e+00     -4.656613e-10             0              1   \n",
       "\n",
       "         type_DEBIT  type_PAYMENT  type_TRANSFER  fromto_CC  fromto_CM  \n",
       "0                 0             1              0          0          1  \n",
       "1                 0             1              0          0          1  \n",
       "2                 0             0              1          1          0  \n",
       "3                 0             0              0          1          0  \n",
       "4                 0             1              0          0          1  \n",
       "...             ...           ...            ...        ...        ...  \n",
       "6362615           0             0              0          1          0  \n",
       "6362616           0             0              1          1          0  \n",
       "6362617           0             0              0          1          0  \n",
       "6362618           0             0              1          1          0  \n",
       "6362619           0             0              0          1          0  \n",
       "\n",
       "[6362620 rows x 14 columns]"
      ]
     },
     "execution_count": 26,
     "metadata": {},
     "output_type": "execute_result"
    }
   ],
   "source": [
    "# One Hot Encode categorical  variables\n",
    "data_ml = pd.get_dummies(data_ml)\n",
    "data_ml"
   ]
  },
  {
   "cell_type": "code",
   "execution_count": 27,
   "id": "cdfc9f6a",
   "metadata": {
    "execution": {
     "iopub.execute_input": "2023-05-09T05:30:51.495184Z",
     "iopub.status.busy": "2023-05-09T05:30:51.494113Z",
     "iopub.status.idle": "2023-05-09T05:30:51.898994Z",
     "shell.execute_reply": "2023-05-09T05:30:51.897778Z"
    },
    "papermill": {
     "duration": 0.429704,
     "end_time": "2023-05-09T05:30:51.901834",
     "exception": false,
     "start_time": "2023-05-09T05:30:51.472130",
     "status": "completed"
    },
    "tags": []
   },
   "outputs": [
    {
     "data": {
      "text/html": [
       "<div>\n",
       "<style scoped>\n",
       "    .dataframe tbody tr th:only-of-type {\n",
       "        vertical-align: middle;\n",
       "    }\n",
       "\n",
       "    .dataframe tbody tr th {\n",
       "        vertical-align: top;\n",
       "    }\n",
       "\n",
       "    .dataframe thead th {\n",
       "        text-align: right;\n",
       "    }\n",
       "</style>\n",
       "<table border=\"1\" class=\"dataframe\">\n",
       "  <thead>\n",
       "    <tr style=\"text-align: right;\">\n",
       "      <th></th>\n",
       "      <th>amount</th>\n",
       "      <th>oldbalanceOrg</th>\n",
       "      <th>oldbalanceDest</th>\n",
       "      <th>isFraud</th>\n",
       "      <th>HourOfDay</th>\n",
       "      <th>errorBalanceOrig</th>\n",
       "      <th>errorBalanceDest</th>\n",
       "      <th>type_CASH_OUT</th>\n",
       "      <th>type_TRANSFER</th>\n",
       "      <th>fromto_CC</th>\n",
       "    </tr>\n",
       "  </thead>\n",
       "  <tbody>\n",
       "    <tr>\n",
       "      <th>0</th>\n",
       "      <td>9839.64</td>\n",
       "      <td>170136.00</td>\n",
       "      <td>0.00</td>\n",
       "      <td>0</td>\n",
       "      <td>1</td>\n",
       "      <td>1.455192e-11</td>\n",
       "      <td>-9.839640e+03</td>\n",
       "      <td>0</td>\n",
       "      <td>0</td>\n",
       "      <td>0</td>\n",
       "    </tr>\n",
       "    <tr>\n",
       "      <th>1</th>\n",
       "      <td>1864.28</td>\n",
       "      <td>21249.00</td>\n",
       "      <td>0.00</td>\n",
       "      <td>0</td>\n",
       "      <td>1</td>\n",
       "      <td>-1.136868e-12</td>\n",
       "      <td>-1.864280e+03</td>\n",
       "      <td>0</td>\n",
       "      <td>0</td>\n",
       "      <td>0</td>\n",
       "    </tr>\n",
       "    <tr>\n",
       "      <th>2</th>\n",
       "      <td>181.00</td>\n",
       "      <td>181.00</td>\n",
       "      <td>0.00</td>\n",
       "      <td>1</td>\n",
       "      <td>1</td>\n",
       "      <td>0.000000e+00</td>\n",
       "      <td>-1.810000e+02</td>\n",
       "      <td>0</td>\n",
       "      <td>1</td>\n",
       "      <td>1</td>\n",
       "    </tr>\n",
       "    <tr>\n",
       "      <th>3</th>\n",
       "      <td>181.00</td>\n",
       "      <td>181.00</td>\n",
       "      <td>21182.00</td>\n",
       "      <td>1</td>\n",
       "      <td>1</td>\n",
       "      <td>0.000000e+00</td>\n",
       "      <td>-2.136300e+04</td>\n",
       "      <td>1</td>\n",
       "      <td>0</td>\n",
       "      <td>1</td>\n",
       "    </tr>\n",
       "    <tr>\n",
       "      <th>4</th>\n",
       "      <td>11668.14</td>\n",
       "      <td>41554.00</td>\n",
       "      <td>0.00</td>\n",
       "      <td>0</td>\n",
       "      <td>1</td>\n",
       "      <td>0.000000e+00</td>\n",
       "      <td>-1.166814e+04</td>\n",
       "      <td>0</td>\n",
       "      <td>0</td>\n",
       "      <td>0</td>\n",
       "    </tr>\n",
       "    <tr>\n",
       "      <th>...</th>\n",
       "      <td>...</td>\n",
       "      <td>...</td>\n",
       "      <td>...</td>\n",
       "      <td>...</td>\n",
       "      <td>...</td>\n",
       "      <td>...</td>\n",
       "      <td>...</td>\n",
       "      <td>...</td>\n",
       "      <td>...</td>\n",
       "      <td>...</td>\n",
       "    </tr>\n",
       "    <tr>\n",
       "      <th>6362615</th>\n",
       "      <td>339682.13</td>\n",
       "      <td>339682.13</td>\n",
       "      <td>0.00</td>\n",
       "      <td>1</td>\n",
       "      <td>23</td>\n",
       "      <td>0.000000e+00</td>\n",
       "      <td>0.000000e+00</td>\n",
       "      <td>1</td>\n",
       "      <td>0</td>\n",
       "      <td>1</td>\n",
       "    </tr>\n",
       "    <tr>\n",
       "      <th>6362616</th>\n",
       "      <td>6311409.28</td>\n",
       "      <td>6311409.28</td>\n",
       "      <td>0.00</td>\n",
       "      <td>1</td>\n",
       "      <td>23</td>\n",
       "      <td>0.000000e+00</td>\n",
       "      <td>-6.311409e+06</td>\n",
       "      <td>0</td>\n",
       "      <td>1</td>\n",
       "      <td>1</td>\n",
       "    </tr>\n",
       "    <tr>\n",
       "      <th>6362617</th>\n",
       "      <td>6311409.28</td>\n",
       "      <td>6311409.28</td>\n",
       "      <td>68488.84</td>\n",
       "      <td>1</td>\n",
       "      <td>23</td>\n",
       "      <td>0.000000e+00</td>\n",
       "      <td>-1.000000e-02</td>\n",
       "      <td>1</td>\n",
       "      <td>0</td>\n",
       "      <td>1</td>\n",
       "    </tr>\n",
       "    <tr>\n",
       "      <th>6362618</th>\n",
       "      <td>850002.52</td>\n",
       "      <td>850002.52</td>\n",
       "      <td>0.00</td>\n",
       "      <td>1</td>\n",
       "      <td>23</td>\n",
       "      <td>0.000000e+00</td>\n",
       "      <td>-8.500025e+05</td>\n",
       "      <td>0</td>\n",
       "      <td>1</td>\n",
       "      <td>1</td>\n",
       "    </tr>\n",
       "    <tr>\n",
       "      <th>6362619</th>\n",
       "      <td>850002.52</td>\n",
       "      <td>850002.52</td>\n",
       "      <td>6510099.11</td>\n",
       "      <td>1</td>\n",
       "      <td>23</td>\n",
       "      <td>0.000000e+00</td>\n",
       "      <td>-4.656613e-10</td>\n",
       "      <td>1</td>\n",
       "      <td>0</td>\n",
       "      <td>1</td>\n",
       "    </tr>\n",
       "  </tbody>\n",
       "</table>\n",
       "<p>6362620 rows × 10 columns</p>\n",
       "</div>"
      ],
      "text/plain": [
       "             amount  oldbalanceOrg  oldbalanceDest  isFraud  HourOfDay  \\\n",
       "0           9839.64      170136.00            0.00        0          1   \n",
       "1           1864.28       21249.00            0.00        0          1   \n",
       "2            181.00         181.00            0.00        1          1   \n",
       "3            181.00         181.00        21182.00        1          1   \n",
       "4          11668.14       41554.00            0.00        0          1   \n",
       "...             ...            ...             ...      ...        ...   \n",
       "6362615   339682.13      339682.13            0.00        1         23   \n",
       "6362616  6311409.28     6311409.28            0.00        1         23   \n",
       "6362617  6311409.28     6311409.28        68488.84        1         23   \n",
       "6362618   850002.52      850002.52            0.00        1         23   \n",
       "6362619   850002.52      850002.52      6510099.11        1         23   \n",
       "\n",
       "         errorBalanceOrig  errorBalanceDest  type_CASH_OUT  type_TRANSFER  \\\n",
       "0            1.455192e-11     -9.839640e+03              0              0   \n",
       "1           -1.136868e-12     -1.864280e+03              0              0   \n",
       "2            0.000000e+00     -1.810000e+02              0              1   \n",
       "3            0.000000e+00     -2.136300e+04              1              0   \n",
       "4            0.000000e+00     -1.166814e+04              0              0   \n",
       "...                   ...               ...            ...            ...   \n",
       "6362615      0.000000e+00      0.000000e+00              1              0   \n",
       "6362616      0.000000e+00     -6.311409e+06              0              1   \n",
       "6362617      0.000000e+00     -1.000000e-02              1              0   \n",
       "6362618      0.000000e+00     -8.500025e+05              0              1   \n",
       "6362619      0.000000e+00     -4.656613e-10              1              0   \n",
       "\n",
       "         fromto_CC  \n",
       "0                0  \n",
       "1                0  \n",
       "2                1  \n",
       "3                1  \n",
       "4                0  \n",
       "...            ...  \n",
       "6362615          1  \n",
       "6362616          1  \n",
       "6362617          1  \n",
       "6362618          1  \n",
       "6362619          1  \n",
       "\n",
       "[6362620 rows x 10 columns]"
      ]
     },
     "execution_count": 27,
     "metadata": {},
     "output_type": "execute_result"
    }
   ],
   "source": [
    "# Drop encoded columns to reduce multicollinearity\n",
    "data_ml = data_ml.drop(['type_CASH_IN', 'type_DEBIT', 'type_PAYMENT', 'fromto_CM'], axis =1)\n",
    "data_ml"
   ]
  },
  {
   "cell_type": "markdown",
   "id": "1ed96175",
   "metadata": {
    "papermill": {
     "duration": 0.020015,
     "end_time": "2023-05-09T05:30:51.942154",
     "exception": false,
     "start_time": "2023-05-09T05:30:51.922139",
     "status": "completed"
    },
    "tags": []
   },
   "source": [
    "### 3. Splitting and Standardizing Data"
   ]
  },
  {
   "cell_type": "code",
   "execution_count": 28,
   "id": "81aa9f49",
   "metadata": {
    "execution": {
     "iopub.execute_input": "2023-05-09T05:30:51.985573Z",
     "iopub.status.busy": "2023-05-09T05:30:51.984263Z",
     "iopub.status.idle": "2023-05-09T05:30:54.596559Z",
     "shell.execute_reply": "2023-05-09T05:30:54.594834Z"
    },
    "papermill": {
     "duration": 2.637233,
     "end_time": "2023-05-09T05:30:54.599702",
     "exception": false,
     "start_time": "2023-05-09T05:30:51.962469",
     "status": "completed"
    },
    "tags": []
   },
   "outputs": [],
   "source": [
    "# Setting up target and feature variables\n",
    "x = data_ml.drop([\"isFraud\"], axis = 1)\n",
    "y = data_ml.isFraud\n",
    "x_train, x_test, y_train, y_test = train_test_split(x, y, train_size=0.8,random_state=0)\n",
    "\n",
    "# Standardizing data\n",
    "sc = StandardScaler()\n",
    "x_train = sc.fit_transform(x_train)\n",
    "x_test = sc.transform(x_test)"
   ]
  },
  {
   "cell_type": "markdown",
   "id": "1a3b2a46",
   "metadata": {
    "papermill": {
     "duration": 0.020179,
     "end_time": "2023-05-09T05:30:54.640494",
     "exception": false,
     "start_time": "2023-05-09T05:30:54.620315",
     "status": "completed"
    },
    "tags": []
   },
   "source": [
    "## Model Selection"
   ]
  },
  {
   "cell_type": "markdown",
   "id": "38b3ec3a",
   "metadata": {
    "papermill": {
     "duration": 0.020362,
     "end_time": "2023-05-09T05:30:54.681866",
     "exception": false,
     "start_time": "2023-05-09T05:30:54.661504",
     "status": "completed"
    },
    "tags": []
   },
   "source": [
    "### 1. RandomForestClassifier\n",
    "\n",
    "Random Forest Classifier is a supervised machine learning algorithm that builds decision trees on different samples and chooses the majority result for classification. \n",
    "\n",
    "As our dataset is imbalanced, I assign class_weight as 'balanced' to reduce bias of the majority class that is valid transactions. "
   ]
  },
  {
   "cell_type": "code",
   "execution_count": 29,
   "id": "372d46d1",
   "metadata": {
    "execution": {
     "iopub.execute_input": "2023-05-09T05:30:54.724837Z",
     "iopub.status.busy": "2023-05-09T05:30:54.724353Z",
     "iopub.status.idle": "2023-05-09T05:36:36.110512Z",
     "shell.execute_reply": "2023-05-09T05:36:36.108918Z"
    },
    "papermill": {
     "duration": 341.432731,
     "end_time": "2023-05-09T05:36:36.135250",
     "exception": false,
     "start_time": "2023-05-09T05:30:54.702519",
     "status": "completed"
    },
    "tags": []
   },
   "outputs": [
    {
     "name": "stdout",
     "output_type": "stream",
     "text": [
      "Confusion Matrix : \n",
      " [[1270848      35]\n",
      " [    296    1345]]\n",
      "Classification Report : \n",
      "               precision    recall  f1-score   support\n",
      "\n",
      "           0       1.00      1.00      1.00   1270883\n",
      "           1       0.97      0.82      0.89      1641\n",
      "\n",
      "    accuracy                           1.00   1272524\n",
      "   macro avg       0.99      0.91      0.95   1272524\n",
      "weighted avg       1.00      1.00      1.00   1272524\n",
      "\n",
      "Area Under Curve : \n",
      " 0.9097973208446473\n"
     ]
    }
   ],
   "source": [
    "# Initiate model \n",
    "RFC = RandomForestClassifier(n_estimators = 25, class_weight = 'balanced', random_state=0)\n",
    "\n",
    "# Fit the model\n",
    "RFC_fit = RFC.fit(x_train, y_train)\n",
    "\n",
    "# Predict the test set \n",
    "RFC_pred = RFC.predict(x_test)\n",
    "\n",
    "# Evaluating model\n",
    "CM_RFC = confusion_matrix(y_test,RFC_pred)\n",
    "CR_RFC = classification_report(y_test,RFC_pred)\n",
    "fprRFC, recallRFC, thresholdsRFC = roc_curve(y_test, RFC_pred)\n",
    "AUC_RFC = auc(fprRFC, recallRFC)\n",
    "\n",
    "resultsRFC = {\"Confusion Matrix\":CM_RFC,\"Classification Report\":CR_RFC,\"Area Under Curve\":AUC_RFC}\n",
    "\n",
    "for measure in resultsRFC:\n",
    "    print(measure,\": \\n\",resultsRFC[measure])"
   ]
  },
  {
   "cell_type": "markdown",
   "id": "1c0f053b",
   "metadata": {
    "papermill": {
     "duration": 0.022746,
     "end_time": "2023-05-09T05:36:36.181671",
     "exception": false,
     "start_time": "2023-05-09T05:36:36.158925",
     "status": "completed"
    },
    "tags": []
   },
   "source": [
    "### 2. ExtremeGradientBoosting\n",
    "XGB is an algorithm that trains a number of decision trees and pools the results to generate the final prediction. XGB is a sequential model, meaning each subsequent tree is dependent outcome of the previous tree, as opposed to Random Forest where trees are built in parallel. \n",
    "\n",
    "For XGB, I train 2 models: one without scaling the weight and one with scaling to reduce bias on majority class."
   ]
  },
  {
   "cell_type": "code",
   "execution_count": 30,
   "id": "38155811",
   "metadata": {
    "execution": {
     "iopub.execute_input": "2023-05-09T05:36:36.227337Z",
     "iopub.status.busy": "2023-05-09T05:36:36.226342Z",
     "iopub.status.idle": "2023-05-09T05:40:29.809386Z",
     "shell.execute_reply": "2023-05-09T05:40:29.807301Z"
    },
    "papermill": {
     "duration": 233.629585,
     "end_time": "2023-05-09T05:40:29.832611",
     "exception": false,
     "start_time": "2023-05-09T05:36:36.203026",
     "status": "completed"
    },
    "tags": []
   },
   "outputs": [
    {
     "name": "stdout",
     "output_type": "stream",
     "text": [
      "Confusion Matrix : \n",
      " [[1270854      29]\n",
      " [    240    1401]]\n",
      "Classification Report : \n",
      "               precision    recall  f1-score   support\n",
      "\n",
      "           0       1.00      1.00      1.00   1270883\n",
      "           1       0.98      0.85      0.91      1641\n",
      "\n",
      "    accuracy                           1.00   1272524\n",
      "   macro avg       0.99      0.93      0.96   1272524\n",
      "weighted avg       1.00      1.00      1.00   1272524\n",
      "\n",
      "Area Under Curve : \n",
      " 0.9268624480138578\n"
     ]
    }
   ],
   "source": [
    "# Initiate model \n",
    "XGB = XGBClassifier(random_state=0)\n",
    "\n",
    "# Fit the model\n",
    "XGB_fit = XGB.fit(x_train, y_train)\n",
    "\n",
    "# Predict the test set \n",
    "XGB_pred = XGB.predict(x_test)\n",
    "\n",
    "# Evaluating model\n",
    "CM_XGB = confusion_matrix(y_test,XGB_pred)\n",
    "CR_XGB = classification_report(y_test,XGB_pred)\n",
    "fprXGB, recallXGB, thresholdsXGB = roc_curve(y_test, XGB_pred)\n",
    "AUC_XGB = auc(fprXGB, recallXGB)\n",
    "\n",
    "resultsXGB = {\"Confusion Matrix\":CM_XGB,\"Classification Report\":CR_XGB,\"Area Under Curve\":AUC_XGB}\n",
    "\n",
    "for measure in resultsXGB:\n",
    "    print(measure,\": \\n\",resultsXGB[measure])"
   ]
  },
  {
   "cell_type": "code",
   "execution_count": 31,
   "id": "1f83b6d9",
   "metadata": {
    "execution": {
     "iopub.execute_input": "2023-05-09T05:40:29.877554Z",
     "iopub.status.busy": "2023-05-09T05:40:29.877106Z",
     "iopub.status.idle": "2023-05-09T05:44:39.503725Z",
     "shell.execute_reply": "2023-05-09T05:44:39.501624Z"
    },
    "papermill": {
     "duration": 249.671196,
     "end_time": "2023-05-09T05:44:39.525226",
     "exception": false,
     "start_time": "2023-05-09T05:40:29.854030",
     "status": "completed"
    },
    "tags": []
   },
   "outputs": [
    {
     "name": "stdout",
     "output_type": "stream",
     "text": [
      "Confusion Matrix : \n",
      " [[1269416    1467]\n",
      " [      7    1634]]\n",
      "Classification Report : \n",
      "               precision    recall  f1-score   support\n",
      "\n",
      "           0       1.00      1.00      1.00   1270883\n",
      "           1       0.53      1.00      0.69      1641\n",
      "\n",
      "    accuracy                           1.00   1272524\n",
      "   macro avg       0.76      1.00      0.84   1272524\n",
      "weighted avg       1.00      1.00      1.00   1272524\n",
      "\n",
      "Area Under Curve : \n",
      " 0.9972899964028762\n"
     ]
    }
   ],
   "source": [
    "# Initiate model \n",
    "XGB2 = XGBClassifier(random_state=0, scale_pos_weight=(y == 0).sum()/(y == 1).sum())\n",
    "\n",
    "# Fit the model\n",
    "XGB2_fit = XGB2.fit(x_train, y_train)\n",
    "\n",
    "# Predict the test set \n",
    "XGB2_pred = XGB2.predict(x_test)\n",
    "\n",
    "# Evaluating model\n",
    "CM_XGB2 = confusion_matrix(y_test,XGB2_pred)\n",
    "CR_XGB2 = classification_report(y_test,XGB2_pred)\n",
    "fprXGB2, recallXGB2, thresholdsXGB2 = roc_curve(y_test, XGB2_pred)\n",
    "AUC_XGB2 = auc(fprXGB2, recallXGB2)\n",
    "\n",
    "resultsXGB2 = {\"Confusion Matrix\":CM_XGB2,\"Classification Report\":CR_XGB2,\"Area Under Curve\":AUC_XGB2}\n",
    "\n",
    "for measure in resultsXGB2:\n",
    "    print(measure,\": \\n\",resultsXGB2[measure])"
   ]
  },
  {
   "cell_type": "markdown",
   "id": "5ba7e3db",
   "metadata": {
    "papermill": {
     "duration": 0.02086,
     "end_time": "2023-05-09T05:44:39.566672",
     "exception": false,
     "start_time": "2023-05-09T05:44:39.545812",
     "status": "completed"
    },
    "tags": []
   },
   "source": [
    "### 3. Model Evaluation"
   ]
  },
  {
   "cell_type": "code",
   "execution_count": 32,
   "id": "7db146eb",
   "metadata": {
    "execution": {
     "iopub.execute_input": "2023-05-09T05:44:39.610735Z",
     "iopub.status.busy": "2023-05-09T05:44:39.610295Z",
     "iopub.status.idle": "2023-05-09T05:44:39.619601Z",
     "shell.execute_reply": "2023-05-09T05:44:39.617786Z"
    },
    "papermill": {
     "duration": 0.034963,
     "end_time": "2023-05-09T05:44:39.622665",
     "exception": false,
     "start_time": "2023-05-09T05:44:39.587702",
     "status": "completed"
    },
    "tags": []
   },
   "outputs": [
    {
     "name": "stdout",
     "output_type": "stream",
     "text": [
      "Confusion Matrix : \n",
      " [[1270848      35]\n",
      " [    296    1345]] \n",
      "\n",
      "Classification Report : \n",
      "               precision    recall  f1-score   support\n",
      "\n",
      "           0       1.00      1.00      1.00   1270883\n",
      "           1       0.97      0.82      0.89      1641\n",
      "\n",
      "    accuracy                           1.00   1272524\n",
      "   macro avg       0.99      0.91      0.95   1272524\n",
      "weighted avg       1.00      1.00      1.00   1272524\n",
      " \n",
      "\n",
      "Area Under Curve : \n",
      " 0.9097973208446473 \n",
      "\n",
      "Confusion Matrix : \n",
      " [[1270854      29]\n",
      " [    240    1401]] \n",
      "\n",
      "Classification Report : \n",
      "               precision    recall  f1-score   support\n",
      "\n",
      "           0       1.00      1.00      1.00   1270883\n",
      "           1       0.98      0.85      0.91      1641\n",
      "\n",
      "    accuracy                           1.00   1272524\n",
      "   macro avg       0.99      0.93      0.96   1272524\n",
      "weighted avg       1.00      1.00      1.00   1272524\n",
      " \n",
      "\n",
      "Area Under Curve : \n",
      " 0.9268624480138578 \n",
      "\n",
      "Confusion Matrix : \n",
      " [[1269416    1467]\n",
      " [      7    1634]] \n",
      "\n",
      "Classification Report : \n",
      "               precision    recall  f1-score   support\n",
      "\n",
      "           0       1.00      1.00      1.00   1270883\n",
      "           1       0.53      1.00      0.69      1641\n",
      "\n",
      "    accuracy                           1.00   1272524\n",
      "   macro avg       0.76      1.00      0.84   1272524\n",
      "weighted avg       1.00      1.00      1.00   1272524\n",
      " \n",
      "\n",
      "Area Under Curve : \n",
      " 0.9972899964028762 \n",
      "\n"
     ]
    }
   ],
   "source": [
    "# Print results of all models \n",
    "for measure in resultsRFC:\n",
    "    print(measure,\": \\n\",resultsRFC[measure], \"\\n\")\n",
    "    \n",
    "for measure in resultsXGB:\n",
    "    print(measure,\": \\n\",resultsXGB[measure], \"\\n\")\n",
    "    \n",
    "for measure in resultsXGB2:\n",
    "    print(measure,\": \\n\",resultsXGB2[measure], \"\\n\")"
   ]
  },
  {
   "cell_type": "markdown",
   "id": "2d78f680",
   "metadata": {
    "papermill": {
     "duration": 0.020384,
     "end_time": "2023-05-09T05:44:39.665132",
     "exception": false,
     "start_time": "2023-05-09T05:44:39.644748",
     "status": "completed"
    },
    "tags": []
   },
   "source": [
    "Comparing the RandomForestClassier algorithm and the first ExtremeGradientBoosting model, it can be observed that the ExtremeGradientBoosting model performs better on all evaluation metrics. \n",
    "\n",
    "Based on the Confusion Matrix, XGB obtained more True Positive, True Negatives and less False Positives and False Negatives. In turn, this translates to greater Precision and Recall scores, as well as AUC score. \n",
    "\n",
    "Taking a look at the second XGB model with scaled weight to account for imbalanced dataset, this model performs better on the Recall metric but worse on Precision metric. \n",
    "\n",
    "This means that XGB2 performs better at classifying fraud transactions as fraud transactions. There 1641 fraud transactions in the test set, and XGB2 correctly classifies 1634 transactions as fraud whereas XGB only correctly classifies 1401 as fraud (difference of 233 transactions).\n",
    "\n",
    "However XGB2 performs worse at classifying valid transactions correctly. There are 1270883 valid transactions in the test set, and XGB2 incorrectly classifies 1467 of these valid transactions as fraudulent whereas XGB incorrectly classifies only 29 transactions (difference of 1438 transactions).\n",
    "\n",
    "With respect to AUC, XGB2 attains a value of 0.9973 which is significantly closer to 1 than XGB at 0.9269. \n",
    "\n"
   ]
  },
  {
   "cell_type": "markdown",
   "id": "75a9ea12",
   "metadata": {
    "papermill": {
     "duration": 0.020791,
     "end_time": "2023-05-09T05:44:39.706619",
     "exception": false,
     "start_time": "2023-05-09T05:44:39.685828",
     "status": "completed"
    },
    "tags": []
   },
   "source": [
    "Overall, of these three algorithms, I would crown XGB2 the superior algorithm because I think the value of correctly identifying 233 more fraud transactions outweighs the cost to resolve 1438 valid transactions that has been labelled as fraud. \n",
    "\n",
    "I think it is important for a financial institution to be able to protect themselves as well as their clients from malicious intentions. \n"
   ]
  }
 ],
 "metadata": {
  "kernelspec": {
   "display_name": "Python 3",
   "language": "python",
   "name": "python3"
  },
  "language_info": {
   "codemirror_mode": {
    "name": "ipython",
    "version": 3
   },
   "file_extension": ".py",
   "mimetype": "text/x-python",
   "name": "python",
   "nbconvert_exporter": "python",
   "pygments_lexer": "ipython3",
   "version": "3.7.12"
  },
  "papermill": {
   "default_parameters": {},
   "duration": 948.754562,
   "end_time": "2023-05-09T05:44:41.861960",
   "environment_variables": {},
   "exception": null,
   "input_path": "__notebook__.ipynb",
   "output_path": "__notebook__.ipynb",
   "parameters": {},
   "start_time": "2023-05-09T05:28:53.107398",
   "version": "2.4.0"
  }
 },
 "nbformat": 4,
 "nbformat_minor": 5
}
